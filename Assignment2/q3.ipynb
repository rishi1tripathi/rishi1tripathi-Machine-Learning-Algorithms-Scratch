{
  "nbformat": 4,
  "nbformat_minor": 0,
  "metadata": {
    "kernelspec": {
      "display_name": "Python 3",
      "language": "python",
      "name": "python3"
    },
    "language_info": {
      "codemirror_mode": {
        "name": "ipython",
        "version": 3
      },
      "file_extension": ".py",
      "mimetype": "text/x-python",
      "name": "python",
      "nbconvert_exporter": "python",
      "pygments_lexer": "ipython3",
      "version": "3.7.6"
    },
    "colab": {
      "name": "q3.ipynb",
      "provenance": [],
      "collapsed_sections": []
    }
  },
  "cells": [
    {
      "cell_type": "markdown",
      "metadata": {
        "id": "ZDlHHNvAQSIg"
      },
      "source": [
        "\n",
        "1. You are provided the titanic dataset. Load the dataset and perform splitting into training and test sets with 70:30 ratio randomly using test train split.\n",
        "2. Use the Logistic regression created from scratch (from the prev question) in this question as well.\n",
        "3. Data cleaning plays a major role in this question. Report all the methods used by you in the ipynb.\n",
        "\n",
        "--> \n",
        "\n",
        "i. Check for missing values\n",
        "\n",
        "ii. Drop Columns & Handle missing values\n",
        "\n",
        "iii. Create dummies for categorical features\n",
        "\n",
        "you are free to perform other data cleaning to improve your results.\n",
        "\n",
        "\n",
        "\n",
        "4. Report accuracy score, Confusion matrix, heat map, classifiaction report and any other metrics you feel useful."
      ]
    },
    {
      "cell_type": "markdown",
      "metadata": {
        "id": "FEeDmps-QSIs"
      },
      "source": [
        "dataset link : \n",
        "https://iiitaphyd-my.sharepoint.com/:f:/g/personal/apurva_jadhav_students_iiit_ac_in/Eictt5_qmoxNqezgQQiMWeIBph4sxlfA6jWAJNPnV2SF9Q?e=mQmYN0 \n",
        "\n",
        "(titanic.csv)\n"
      ]
    },
    {
      "cell_type": "code",
      "metadata": {
        "id": "EQw6RaPkQSIv"
      },
      "source": [
        "import numpy as np\r\n",
        "import pandas as pd\r\n",
        "import matplotlib.pyplot as plt\r\n",
        "import seaborn as sns\r\n",
        "from sklearn.model_selection import train_test_split\r\n",
        "df= pd.read_excel('titanic.xlsx')\r\n",
        "df = df.reset_index(drop=True)\r\n",
        "\r\n",
        "\r\n"
      ],
      "execution_count": null,
      "outputs": []
    },
    {
      "cell_type": "code",
      "metadata": {
        "colab": {
          "base_uri": "https://localhost:8080/",
          "height": 300
        },
        "id": "n-Y02qi-AVps",
        "outputId": "56023fe9-bc54-4fcd-8b6c-7c47cdb71e9e"
      },
      "source": [
        "df.describe()"
      ],
      "execution_count": null,
      "outputs": [
        {
          "output_type": "execute_result",
          "data": {
            "text/html": [
              "<div>\n",
              "<style scoped>\n",
              "    .dataframe tbody tr th:only-of-type {\n",
              "        vertical-align: middle;\n",
              "    }\n",
              "\n",
              "    .dataframe tbody tr th {\n",
              "        vertical-align: top;\n",
              "    }\n",
              "\n",
              "    .dataframe thead th {\n",
              "        text-align: right;\n",
              "    }\n",
              "</style>\n",
              "<table border=\"1\" class=\"dataframe\">\n",
              "  <thead>\n",
              "    <tr style=\"text-align: right;\">\n",
              "      <th></th>\n",
              "      <th>PassengerId</th>\n",
              "      <th>Survived</th>\n",
              "      <th>Pclass</th>\n",
              "      <th>Age</th>\n",
              "      <th>SibSp</th>\n",
              "      <th>Parch</th>\n",
              "      <th>Fare</th>\n",
              "    </tr>\n",
              "  </thead>\n",
              "  <tbody>\n",
              "    <tr>\n",
              "      <th>count</th>\n",
              "      <td>891.000000</td>\n",
              "      <td>891.000000</td>\n",
              "      <td>891.000000</td>\n",
              "      <td>891.000000</td>\n",
              "      <td>891.000000</td>\n",
              "      <td>891.000000</td>\n",
              "      <td>891.000000</td>\n",
              "    </tr>\n",
              "    <tr>\n",
              "      <th>mean</th>\n",
              "      <td>446.000000</td>\n",
              "      <td>0.383838</td>\n",
              "      <td>2.308642</td>\n",
              "      <td>29.478305</td>\n",
              "      <td>0.523008</td>\n",
              "      <td>0.381594</td>\n",
              "      <td>32.204208</td>\n",
              "    </tr>\n",
              "    <tr>\n",
              "      <th>std</th>\n",
              "      <td>257.353842</td>\n",
              "      <td>0.486592</td>\n",
              "      <td>0.836071</td>\n",
              "      <td>13.549691</td>\n",
              "      <td>1.102743</td>\n",
              "      <td>0.806057</td>\n",
              "      <td>49.693429</td>\n",
              "    </tr>\n",
              "    <tr>\n",
              "      <th>min</th>\n",
              "      <td>1.000000</td>\n",
              "      <td>0.000000</td>\n",
              "      <td>1.000000</td>\n",
              "      <td>0.420000</td>\n",
              "      <td>0.000000</td>\n",
              "      <td>0.000000</td>\n",
              "      <td>0.000000</td>\n",
              "    </tr>\n",
              "    <tr>\n",
              "      <th>25%</th>\n",
              "      <td>223.500000</td>\n",
              "      <td>0.000000</td>\n",
              "      <td>2.000000</td>\n",
              "      <td>21.000000</td>\n",
              "      <td>0.000000</td>\n",
              "      <td>0.000000</td>\n",
              "      <td>7.910400</td>\n",
              "    </tr>\n",
              "    <tr>\n",
              "      <th>50%</th>\n",
              "      <td>446.000000</td>\n",
              "      <td>0.000000</td>\n",
              "      <td>3.000000</td>\n",
              "      <td>28.000000</td>\n",
              "      <td>0.000000</td>\n",
              "      <td>0.000000</td>\n",
              "      <td>14.454200</td>\n",
              "    </tr>\n",
              "    <tr>\n",
              "      <th>75%</th>\n",
              "      <td>668.500000</td>\n",
              "      <td>1.000000</td>\n",
              "      <td>3.000000</td>\n",
              "      <td>38.000000</td>\n",
              "      <td>1.000000</td>\n",
              "      <td>0.000000</td>\n",
              "      <td>31.000000</td>\n",
              "    </tr>\n",
              "    <tr>\n",
              "      <th>max</th>\n",
              "      <td>891.000000</td>\n",
              "      <td>1.000000</td>\n",
              "      <td>3.000000</td>\n",
              "      <td>80.000000</td>\n",
              "      <td>8.000000</td>\n",
              "      <td>6.000000</td>\n",
              "      <td>512.329200</td>\n",
              "    </tr>\n",
              "  </tbody>\n",
              "</table>\n",
              "</div>"
            ],
            "text/plain": [
              "       PassengerId    Survived      Pclass  ...       SibSp       Parch        Fare\n",
              "count   891.000000  891.000000  891.000000  ...  891.000000  891.000000  891.000000\n",
              "mean    446.000000    0.383838    2.308642  ...    0.523008    0.381594   32.204208\n",
              "std     257.353842    0.486592    0.836071  ...    1.102743    0.806057   49.693429\n",
              "min       1.000000    0.000000    1.000000  ...    0.000000    0.000000    0.000000\n",
              "25%     223.500000    0.000000    2.000000  ...    0.000000    0.000000    7.910400\n",
              "50%     446.000000    0.000000    3.000000  ...    0.000000    0.000000   14.454200\n",
              "75%     668.500000    1.000000    3.000000  ...    1.000000    0.000000   31.000000\n",
              "max     891.000000    1.000000    3.000000  ...    8.000000    6.000000  512.329200\n",
              "\n",
              "[8 rows x 7 columns]"
            ]
          },
          "metadata": {
            "tags": []
          },
          "execution_count": 96
        }
      ]
    },
    {
      "cell_type": "code",
      "metadata": {
        "colab": {
          "base_uri": "https://localhost:8080/"
        },
        "id": "gpDoLjofBWRR",
        "outputId": "03f20ae7-c7ad-46eb-ca03-3e5354a62517"
      },
      "source": [
        "# Total columns\r\n",
        "df.columns"
      ],
      "execution_count": null,
      "outputs": [
        {
          "output_type": "execute_result",
          "data": {
            "text/plain": [
              "Index(['PassengerId', 'Survived', 'Pclass', 'Name', 'Sex', 'Age', 'SibSp',\n",
              "       'Parch', 'Ticket', 'Fare', 'Cabin', 'Embarked'],\n",
              "      dtype='object')"
            ]
          },
          "metadata": {
            "tags": []
          },
          "execution_count": 97
        }
      ]
    },
    {
      "cell_type": "code",
      "metadata": {
        "colab": {
          "base_uri": "https://localhost:8080/"
        },
        "id": "Y95D-1IHBgBx",
        "outputId": "0cc8a02e-2e10-46bc-f0b1-b3affbb3a9ed"
      },
      "source": [
        "# Count missing values\r\n",
        "df.isnull().sum()"
      ],
      "execution_count": null,
      "outputs": [
        {
          "output_type": "execute_result",
          "data": {
            "text/plain": [
              "PassengerId      0\n",
              "Survived         0\n",
              "Pclass           0\n",
              "Name             0\n",
              "Sex              0\n",
              "Age            177\n",
              "SibSp            0\n",
              "Parch            0\n",
              "Ticket           0\n",
              "Fare             0\n",
              "Cabin          687\n",
              "Embarked         2\n",
              "dtype: int64"
            ]
          },
          "metadata": {
            "tags": []
          },
          "execution_count": 79
        }
      ]
    },
    {
      "cell_type": "code",
      "metadata": {
        "colab": {
          "base_uri": "https://localhost:8080/",
          "height": 498
        },
        "id": "-nsvuFmiGab7",
        "outputId": "be6bdce8-316b-4768-88c0-2690bf497e61"
      },
      "source": [
        "# //Handling name fiele.Extracting columns title and assigning numerical categroies\r\n",
        "print(df['Name'].head(10))\r\n",
        "df['Title'] = df.Name.str.extract(' ([A-Za-z]+)\\.', expand=False)\r\n",
        "df = df.drop(columns='Name')\r\n",
        "df.Title\r\n",
        "df.Title.value_counts().plot.bar()\r\n",
        "df['Title'] = df['Title'].replace(['Dr', 'Rev', 'Col', 'Major', 'Countess', 'Sir', 'Jonkheer', 'Lady', 'Capt', 'Don'], 'Rare')\r\n",
        "df['Title'] = df['Title'].replace('Ms', 'Miss')\r\n",
        "df['Title'] = df['Title'].replace('Mme', 'Mrs')\r\n",
        "df['Title'] = df['Title'].replace('Mlle', 'Miss')\r\n",
        "\r\n",
        "df.Title.value_counts().plot.bar()\r\n",
        "\r\n",
        "df.groupby('Title').agg({'Survived':['count', 'sum','mean']})\r\n",
        "df['Title'] = df['Title'].map({\"Mr\": 1, \"Miss\": 2, \"Mrs\": 3, \"Master\": 4, \"Rare\": 5})\r\n"
      ],
      "execution_count": null,
      "outputs": [
        {
          "output_type": "stream",
          "text": [
            "0                              Braund, Mr. Owen Harris\n",
            "1    Cumings, Mrs. John Bradley (Florence Briggs Th...\n",
            "2                               Heikkinen, Miss. Laina\n",
            "3         Futrelle, Mrs. Jacques Heath (Lily May Peel)\n",
            "4                             Allen, Mr. William Henry\n",
            "5                                     Moran, Mr. James\n",
            "6                              McCarthy, Mr. Timothy J\n",
            "7                       Palsson, Master. Gosta Leonard\n",
            "8    Johnson, Mrs. Oscar W (Elisabeth Vilhelmina Berg)\n",
            "9                  Nasser, Mrs. Nicholas (Adele Achem)\n",
            "Name: Name, dtype: object\n"
          ],
          "name": "stdout"
        },
        {
          "output_type": "display_data",
          "data": {
            "image/png": "[encoded data removed]",
            "text/plain": [
              "<Figure size 432x288 with 1 Axes>"
            ]
          },
          "metadata": {
            "tags": []
          }
        }
      ]
    },
    {
      "cell_type": "code",
      "metadata": {
        "colab": {
          "base_uri": "https://localhost:8080/"
        },
        "id": "YXPxhoDhR069",
        "outputId": "2e2bfbc9-79ca-4a7e-b948-b236e1ee3f21"
      },
      "source": [
        "# Handling sex field.\r\n",
        "# Female are more likely to survive based on mean (which is percentage here as survived count)\r\n",
        "print(df.groupby('Sex').agg({'Survived':['count', 'sum','mean']}))\r\n",
        "df['Sex'] = df['Sex'].map({'male':0, 'female':1})"
      ],
      "execution_count": null,
      "outputs": [
        {
          "output_type": "stream",
          "text": [
            "       Survived               \n",
            "          count  sum      mean\n",
            "Sex                           \n",
            "female      314  233  0.742038\n",
            "male        577  109  0.188908\n"
          ],
          "name": "stdout"
        }
      ]
    },
    {
      "cell_type": "code",
      "metadata": {
        "colab": {
          "base_uri": "https://localhost:8080/"
        },
        "id": "_QZczG6rCiNe",
        "outputId": "68d7a125-81ce-4b71-f858-af79972b5f1d"
      },
      "source": [
        "print(df['Embarked'].describe())\r\n",
        "# Handling Embarked field.\r\n",
        "# C are more likely to survive followed by Q ,followed by S\r\n",
        "\r\n",
        "print(df.groupby('Embarked').agg({'Survived':['count', 'sum','mean']}))\r\n",
        "# print(df.groupby('Embarked').agg({'Survived':['count', 'sum','mean']}))\r\n",
        "# As s is the majority class, fill the missing value with S\r\n",
        "\r\n",
        "df['Embarked'] = df['Embarked'].fillna('S')\r\n",
        "df['Embarked'] = df['Embarked'].map({'C':0, 'Q':1, 'S':2})"
      ],
      "execution_count": null,
      "outputs": [
        {
          "output_type": "stream",
          "text": [
            "count     889\n",
            "unique      3\n",
            "top         S\n",
            "freq      644\n",
            "Name: Embarked, dtype: object\n",
            "         Survived               \n",
            "            count  sum      mean\n",
            "Embarked                        \n",
            "C             168   93  0.553571\n",
            "Q              77   30  0.389610\n",
            "S             644  217  0.336957\n"
          ],
          "name": "stdout"
        }
      ]
    },
    {
      "cell_type": "code",
      "metadata": {
        "colab": {
          "base_uri": "https://localhost:8080/"
        },
        "id": "6klZ6tOSEaaC",
        "outputId": "b5cb071e-5b79-4d26-df2a-ddbfaaccaec1"
      },
      "source": [
        "# SibSp and Parch\r\n",
        "# The passengers having one sibling/spouse has more survival probability.\r\n",
        "# '1' > '2' > '0' > '3' > '4'\r\n",
        "\r\n",
        "# # The passengers having three children/parents has more survival probability.\r\n",
        "#     '3' > '1' > '2' > '0' > '5'\r\n",
        "\r\n",
        "\r\n",
        "\r\n",
        "# Create new feature as a sum of siblings and children\r\n",
        "# train_data['FamilySize'] = train_data['SibSp'] + train_data['Parch'] + 1\r\n",
        "print(df.groupby('SibSp').agg({'Survived':['count', 'sum','mean']}))\r\n",
        "print(df.groupby('Parch').agg({'Survived':['count', 'sum','mean']}))\r\n",
        "df['SizeOfToalFamily'] = df['SibSp'] + df['Parch'] + 1"
      ],
      "execution_count": null,
      "outputs": [
        {
          "output_type": "stream",
          "text": [
            "      Survived               \n",
            "         count  sum      mean\n",
            "SibSp                        \n",
            "0          608  210  0.345395\n",
            "1          209  112  0.535885\n",
            "2           28   13  0.464286\n",
            "3           16    4  0.250000\n",
            "4           18    3  0.166667\n",
            "5            5    0  0.000000\n",
            "8            7    0  0.000000\n",
            "      Survived               \n",
            "         count  sum      mean\n",
            "Parch                        \n",
            "0          678  233  0.343658\n",
            "1          118   65  0.550847\n",
            "2           80   40  0.500000\n",
            "3            5    3  0.600000\n",
            "4            4    0  0.000000\n",
            "5            5    1  0.200000\n",
            "6            1    0  0.000000\n"
          ],
          "name": "stdout"
        }
      ]
    },
    {
      "cell_type": "code",
      "metadata": {
        "colab": {
          "base_uri": "https://localhost:8080/",
          "height": 411
        },
        "id": "regkxHOxGXkh",
        "outputId": "7e395a4a-d9af-40b1-c527-fd211e186ce0"
      },
      "source": [
        "# Pclass\r\n",
        "# survival probability 1>2>3\r\n",
        "print(df.groupby('Pclass').agg({'Survived':['count', 'sum','mean']}))\r\n",
        "plt = df[['Pclass', 'Survived']].groupby('Pclass').mean().Survived.plot.bar()\r\n",
        "plt.set_xlabel('Pclass')\r\n",
        "plt.set_ylabel('Survival Probability')"
      ],
      "execution_count": null,
      "outputs": [
        {
          "output_type": "stream",
          "text": [
            "       Survived               \n",
            "          count  sum      mean\n",
            "Pclass                        \n",
            "1           216  136  0.629630\n",
            "2           184   87  0.472826\n",
            "3           491  119  0.242363\n"
          ],
          "name": "stdout"
        },
        {
          "output_type": "execute_result",
          "data": {
            "text/plain": [
              "Text(0, 0.5, 'Survival Probability')"
            ]
          },
          "metadata": {
            "tags": []
          },
          "execution_count": 8
        },
        {
          "output_type": "display_data",
          "data": {
            "image/png": "[encoded data removed]",
            "text/plain": [
              "<Figure size 432x288 with 1 Axes>"
            ]
          },
          "metadata": {
            "tags": []
          }
        }
      ]
    },
    {
      "cell_type": "code",
      "metadata": {
        "colab": {
          "base_uri": "https://localhost:8080/"
        },
        "id": "1nrLRXaqGZIJ",
        "outputId": "246516ab-9a15-4fde-c9a2-17b5491b6f58"
      },
      "source": [
        "print(df['Ticket'].describe())\r\n",
        "df = df.drop(columns=['Ticket'])\r\n",
        "# As there are 681 unique value, its good to drop it\r\n",
        "# As cabins have lot of missing values\r\n",
        "df = df.drop(columns=['PassengerId'])\r\n",
        "df = df.drop(columns=['Cabin'])\r\n",
        "\r\n"
      ],
      "execution_count": null,
      "outputs": [
        {
          "output_type": "stream",
          "text": [
            "count        891\n",
            "unique       681\n",
            "top       347082\n",
            "freq           7\n",
            "Name: Ticket, dtype: int64\n"
          ],
          "name": "stdout"
        }
      ]
    },
    {
      "cell_type": "code",
      "metadata": {
        "colab": {
          "base_uri": "https://localhost:8080/"
        },
        "id": "i6N4a4Aoc9SA",
        "outputId": "bce20df9-332e-47c9-e256-2b716c8ff3ea"
      },
      "source": [
        "    print(df.isnull().sum())\r\n",
        "    mean = df[\"Age\"].mean()\r\n",
        "    std = df[\"Age\"].std()\r\n",
        "    no_of_null = df[\"Age\"].isnull().sum()\r\n",
        "    # compute no_of_null random numbers  array of size no_of_null between the mean, std\r\n",
        "    rand_age = np.random.randint(mean - std, mean + std, size = no_of_null)\r\n",
        "    # fill NaN values in Age column with random values generated\r\n",
        "    age_slice = df[\"Age\"].copy()\r\n",
        "    age_slice[np.isnan(age_slice)] = rand_age\r\n",
        "    df[\"Age\"] = age_slice\r\n"
      ],
      "execution_count": null,
      "outputs": [
        {
          "output_type": "stream",
          "text": [
            "Survived              0\n",
            "Pclass                0\n",
            "Sex                   0\n",
            "Age                 177\n",
            "SibSp                 0\n",
            "Parch                 0\n",
            "Fare                  0\n",
            "Embarked              0\n",
            "Title                 0\n",
            "SizeOfToalFamily      0\n",
            "dtype: int64\n"
          ],
          "name": "stdout"
        }
      ]
    },
    {
      "cell_type": "code",
      "metadata": {
        "colab": {
          "base_uri": "https://localhost:8080/",
          "height": 590
        },
        "id": "vG31_4Sbfl9y",
        "outputId": "291e5a44-ab06-4311-b83b-a15bf35b1932"
      },
      "source": [
        "# Heat map \r\n",
        "import matplotlib.pyplot as plt\r\n",
        "corr_matrix = df.corr()   \r\n",
        "plt.figure(figsize=(9, 8))\r\n",
        "sns.heatmap(data = corr_matrix,cmap='BrBG', annot=True, linewidths=0.2)\r\n"
      ],
      "execution_count": null,
      "outputs": [
        {
          "output_type": "execute_result",
          "data": {
            "text/plain": [
              "<matplotlib.axes._subplots.AxesSubplot at 0x7ff3445128d0>"
            ]
          },
          "metadata": {
            "tags": []
          },
          "execution_count": 11
        },
        {
          "output_type": "display_data",
          "data": {
            "image/png": "[encoded data removed]",
            "text/plain": [
              "<Figure size 648x576 with 2 Axes>"
            ]
          },
          "metadata": {
            "tags": []
          }
        }
      ]
    },
    {
      "cell_type": "code",
      "metadata": {
        "id": "vjfwDOQIgwPr"
      },
      "source": [
        "X = df.drop(\"Survived\", axis=1)\r\n",
        "Y = df[\"Survived\"]\r\n",
        "pd.DataFrame(X).to_numpy()\r\n",
        "pd.DataFrame(Y).to_numpy()\r\n",
        "from sklearn.model_selection import train_test_split\r\n",
        "X_train, X_test, y_train, y_test = train_test_split(X, Y, test_size=0.3)\r\n"
      ],
      "execution_count": null,
      "outputs": []
    },
    {
      "cell_type": "code",
      "metadata": {
        "id": "f9Uqp6oBm3k4"
      },
      "source": [
        ""
      ],
      "execution_count": null,
      "outputs": []
    },
    {
      "cell_type": "code",
      "metadata": {
        "id": "0BwB-XIsitnX"
      },
      "source": [
        "import numpy as np\r\n",
        "\r\n",
        "\r\n",
        "class LogisticRegression:\r\n",
        "\r\n",
        "    def __init__(self, learning_rate=0.01, iters=30000):\r\n",
        "        self.learning_rate = learning_rate\r\n",
        "        self.iters = iters\r\n",
        "\r\n",
        "    \r\n",
        "    def fit(self, X, y):\r\n",
        "        no_of_samples, no_of_features = X.shape \r\n",
        "        weights = np.zeros(no_of_features)\r\n",
        "        b = 0\r\n",
        "        for i in range(self.iters):\r\n",
        "            # linear function\r\n",
        "            temp = np.dot(X, weights) +b\r\n",
        "            # sigmoid function\r\n",
        "            y_pred = 1 / (1 + np.exp(-temp))\r\n",
        "\r\n",
        "            # gradients calculation\r\n",
        "            dw = (1 / no_of_samples) * np.dot(X.T, (y_pred - y))\r\n",
        "            db = (1 / no_of_samples) * np.sum(y_pred - y)\r\n",
        "\r\n",
        "            # update parameters\r\n",
        "            weights -= self.learning_rate * dw\r\n",
        "            b-=        self.learning_rate * db\r\n",
        "\r\n",
        "      \r\n",
        "        self.weights = weights\r\n",
        "        self.b = b\r\n",
        "    def predict(self, X):\r\n",
        "        temp = np.dot(X, self.weights) + self.b\r\n",
        "        y_pred = 1 / (1 + np.exp(-temp))\r\n",
        "        return y_pred\r\n",
        "        # y_predicted_cls = [1 if i > 0.5 else 0 for i in y_predicted]\r\n",
        "        # return np.array(y_predicted_cls)\r\n",
        "    def classify(self, X):\r\n",
        "        temp = np.dot(X, self.weights) + self.b\r\n",
        "        y_pred = 1 / (1 + np.exp(-temp))\r\n",
        "        y_pred = [1 if i > 0.5 else 0 for i in y_pred]\r\n",
        "        return np.array(y_pred)"
      ],
      "execution_count": null,
      "outputs": []
    },
    {
      "cell_type": "code",
      "metadata": {
        "colab": {
          "base_uri": "https://localhost:8080/",
          "height": 463
        },
        "id": "F9LyXAboivP5",
        "outputId": "c13eba88-6bd9-4f19-bb0d-8a239302608c"
      },
      "source": [
        "from sklearn.metrics import accuracy_score\r\n",
        "from sklearn.metrics import confusion_matrix\r\n",
        "from sklearn.metrics import confusion_matrix, ConfusionMatrixDisplay\r\n",
        "logreg = LogisticRegression()\r\n",
        "logreg.fit(X_train, y_train)\r\n",
        "\r\n",
        "Y_pred = logreg.classify(X_test)\r\n",
        "print(Y_pred)\r\n",
        "\r\n",
        "print(accuracy_score(y_test, Y_pred))\r\n",
        "\r\n",
        "cm=confusion_matrix(y_test, Y_pred)\r\n",
        "disp = ConfusionMatrixDisplay(confusion_matrix=cm,display_labels=[0,1])\r\n",
        "disp.plot() \r\n",
        "# acc_log = round(logreg.score(X_train, Y_train) * 100, 2)\r\n",
        "\r\n",
        "from sklearn.metrics import classification_report\r\n",
        "target_names = ['class 0', 'class 1']\r\n",
        "print(classification_report(y_test, Y_pred, target_names=target_names))"
      ],
      "execution_count": null,
      "outputs": [
        {
          "output_type": "stream",
          "text": [
            "[1 0 0 0 0 0 1 1 1 1 1 1 0 0 1 1 1 1 0 1 0 0 0 1 1 1 1 1 1 1 0 0 1 1 1 0 1\n",
            " 1 1 1 1 0 0 0 0 0 1 1 0 1 0 1 0 1 1 1 0 0 0 0 0 1 1 0 1 1 0 0 1 1 0 1 1 1\n",
            " 1 1 0 0 0 1 0 1 0 0 0 0 1 0 0 1 0 0 1 0 1 1 0 1 1 1 0 1 0 1 0 0 0 1 0 0 0\n",
            " 0 0 1 1 1 0 1 0 0 0 0 0 0 0 0 1 0 0 0 1 1 1 1 0 0 1 1 1 1 0 0 1 1 1 0 0 0\n",
            " 1 1 0 1 0 1 0 1 1 1 1 0 1 1 1 1 0 1 0 0 0 1 1 0 1 0 1 0 1 1 0 0 1 1 0 0 1\n",
            " 0 1 0 0 0 1 0 0 0 0 0 0 1 1 0 1 1 0 1 0 0 0 0 0 0 0 1 0 0 1 1 0 1 1 0 1 1\n",
            " 1 0 0 1 0 1 1 0 1 1 0 1 1 1 0 0 0 0 0 1 1 1 1 0 1 1 1 0 1 1 0 0 1 1 0 1 1\n",
            " 0 0 0 0 0 0 1 0 0]\n",
            "0.7798507462686567\n"
          ],
          "name": "stdout"
        },
        {
          "output_type": "execute_result",
          "data": {
            "text/plain": [
              "<sklearn.metrics._plot.confusion_matrix.ConfusionMatrixDisplay at 0x7f99644ae750>"
            ]
          },
          "metadata": {
            "tags": []
          },
          "execution_count": 123
        },
        {
          "output_type": "display_data",
          "data": {
            "image/png": "[encoded data removed]",
            "text/plain": [
              "<Figure size 432x288 with 2 Axes>"
            ]
          },
          "metadata": {
            "tags": [],
            "needs_background": "light"
          }
        }
      ]
    },
    {
      "cell_type": "code",
      "metadata": {
        "colab": {
          "base_uri": "https://localhost:8080/"
        },
        "id": "Eld8oJ1Hoa5f",
        "outputId": "18edd75b-66b5-4aea-c87a-871b63af2a20"
      },
      "source": [
        "from sklearn.metrics import classification_report\r\n",
        "target_names = ['class 0', 'class 1']\r\n",
        "print(classification_report(y_test, Y_pred, target_names=target_names))"
      ],
      "execution_count": null,
      "outputs": [
        {
          "output_type": "stream",
          "text": [
            "              precision    recall  f1-score   support\n",
            "\n",
            "     class 0       0.90      0.73      0.81       168\n",
            "     class 1       0.65      0.87      0.75       100\n",
            "\n",
            "    accuracy                           0.78       268\n",
            "   macro avg       0.78      0.80      0.78       268\n",
            "weighted avg       0.81      0.78      0.78       268\n",
            "\n"
          ],
          "name": "stdout"
        }
      ]
    }
  ]
}