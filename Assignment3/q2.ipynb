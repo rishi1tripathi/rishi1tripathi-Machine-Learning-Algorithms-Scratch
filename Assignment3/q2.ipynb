{
  "nbformat": 4,
  "nbformat_minor": 0,
  "metadata": {
    "colab": {
      "name": "Untitled7.ipynb",
      "provenance": []
    },
    "kernelspec": {
      "display_name": "Python 3",
      "name": "python3"
    },
    "language_info": {
      "name": "python"
    },
    "accelerator": "GPU"
  },
  "cells": [
    {
      "cell_type": "code",
      "metadata": {
        "id": "PjdlX1CXdMzT"
      },
      "source": [
        "import torch\n",
        "import torchvision\n",
        "import torchvision.transforms as transforms"
      ],
      "execution_count": null,
      "outputs": []
    },
    {
      "cell_type": "code",
      "metadata": {
        "id": "vfBcXZqkdTPP"
      },
      "source": [
        "transform = transforms.Compose(\n",
        "    [transforms.ToTensor(),\n",
        "    ])\n",
        "\n",
        "mnist_trainset = torchvision.datasets.MNIST(root='./data', train=True, download=True,transforms.ToTensor())\n",
        "train_loader = torch.utils.data.DataLoader(mnist_trainset, batch_size=64, shuffle=True)\n",
        "\n",
        "mnist_testset = torchvision.datasets.MNIST(root='./data', train=False, download=True, transforms.ToTensor())\n",
        "test_loader = torch.utils.data.DataLoader(mnist_testset, batch_size=64, shuffle=True)\n"
      ],
      "execution_count": null,
      "outputs": []
    },
    {
      "cell_type": "code",
      "metadata": {
        "colab": {
          "base_uri": "https://localhost:8080/"
        },
        "id": "8hc6T7Lgk6u6",
        "outputId": "7c457a3c-c68f-4913-d189-834ad0ebb6b6"
      },
      "source": [
        "import torch.nn as nn\n",
        "import torch.nn.functional as F\n",
        "device = torch.device(\"cuda:0\" if torch.cuda.is_available() else \"cpu\")\n",
        "print(device)\n",
        "\n",
        "class AE(nn.Module):\n",
        "    def __init__(self,bootleneck_params):\n",
        "        super(AE, self).__init__()\n",
        "        self.bootleneck_params=  bootleneck_params\n",
        "        #Encoder\n",
        "        self.enc1 = nn.Linear(in_features=784, out_features=300)\n",
        "         # Input image (28*28 = 784)\n",
        "        self.enc2 = nn.Linear(in_features=300, out_features=100)\n",
        "        self.enc3 = nn.Linear(in_features=100, out_features=32)\n",
        "        self.enc4 = nn.Linear(in_features=32, out_features= self.bootleneck_params)\n",
        "\n",
        "        #Decoder \n",
        "        self.dec1 = nn.Linear(in_features =self.bootleneck_params, out_features=32)\n",
        "        self.dec2 = nn.Linear(in_features=32, out_features=100)\n",
        "        self.dec3 = nn.Linear(in_features=100, out_features=300)\n",
        "        self.dec4 = nn.Linear(in_features=300, out_features=784)\n",
        "\n",
        "    def forward(self, x):\n",
        "        x = F.relu(self.enc1(x))\n",
        "        x = F.relu(self.enc2(x))\n",
        "        x = F.relu(self.enc3(x))\n",
        "        x = F.relu(self.enc4(x))\n",
        "\n",
        "        x = F.relu(self.dec1(x))\n",
        "        x = F.relu(self.dec2(x))\n",
        "        x = F.relu(self.dec3(x))\n",
        "        x = self.dec4(x)\n",
        "\n",
        "        return x"
      ],
      "execution_count": null,
      "outputs": [
        {
          "output_type": "stream",
          "text": [
            "cuda:0\n"
          ],
          "name": "stdout"
        }
      ]
    },
    {
      "cell_type": "code",
      "metadata": {
        "colab": {
          "base_uri": "https://localhost:8080/"
        },
        "id": "nU_UKtu9m2vr",
        "outputId": "d6540b1d-3030-4641-b141-dfa4b2903dfd"
      },
      "source": [
        "examples = enumerate(train_loader)\n",
        "batch_idx, (example_data, example_targets) = next(examples)\n",
        "print(example_data.shape)"
      ],
      "execution_count": null,
      "outputs": [
        {
          "output_type": "stream",
          "text": [
            "torch.Size([128, 1, 28, 28])\n"
          ],
          "name": "stdout"
        }
      ]
    },
    {
      "cell_type": "code",
      "metadata": {
        "id": "BAE-sotxp1fl"
      },
      "source": [
        "def train(model,epoch,optimizer,scheduler):\n",
        "    for epoch in range(epoch):  # loop over the dataset multiple times\n",
        "        running_loss = 0.0\n",
        "        for i, data in enumerate(train_loader, 0):\n",
        "            inputs, labels = data[0].to(device), data[1].to(device)\n",
        "            inputs = inputs.view(inputs.size(0), -1)\n",
        "            optimizer.zero_grad()\n",
        "            outputs = model(inputs)\n",
        "            loss = criterion(outputs, inputs)\n",
        "            loss.backward()\n",
        "            optimizer.step()\n",
        "            \n",
        "            running_loss += loss.item()\n",
        "        # scheduler.step() \n",
        "        loss = running_loss / len(train_loader)\n",
        "        print('Epoch {} of {}, Train Loss: {:.3f}'.format(\n",
        "            epoch+1, 10, loss))"
      ],
      "execution_count": null,
      "outputs": []
    },
    {
      "cell_type": "code",
      "metadata": {
        "id": "FVEgxNqh1WTJ"
      },
      "source": [
        "def test(model):\n",
        "    total = 0\n",
        "    total_loss = 0\n",
        "    with torch.no_grad():\n",
        "        running_loss = 0.0\n",
        "        for data in test_loader:\n",
        "            images, labels = data[0].to(device), data[1].to(device)\n",
        "            images = images.view(images.size(0), -1)\n",
        "            outputs = model(images)\n",
        "            total += labels.size(0)\n",
        "            loss = criterion(outputs, images)\n",
        "            running_loss += loss.item()\n",
        "        total_loss = running_loss / len(test_loader)\n",
        "    return total_loss"
      ],
      "execution_count": null,
      "outputs": []
    },
    {
      "cell_type": "code",
      "metadata": {
        "colab": {
          "base_uri": "https://localhost:8080/",
          "height": 1000
        },
        "id": "GGd2B0BF5JJs",
        "outputId": "685fd2bf-f1e2-4d9a-acc1-9b7cd056816d"
      },
      "source": [
        "# // Adam Optimizer\n",
        "import matplotlib.pyplot as plt\n",
        "import torch.optim.lr_scheduler as schedu\n",
        "import torch.optim as optim\n",
        "Lr_Rate = 1e-3\n",
        "criterion = nn.MSELoss()\n",
        "loss_range=[]\n",
        "for bottleneck_neuron in range(2,17,2):\n",
        "   ae= AE(bottleneck_neuron)\n",
        "   optimizer = torch.optim.Adam(ae.parameters(),  lr=Lr_Rate)\n",
        "   criterion = nn.MSELoss()\n",
        "  #  scheduler = schedu.StepLR(optimizer, step_size=5, gamma=0.1)\n",
        "   scheduler = schedu.StepLR(optimizer, step_size=3, gamma=0.1)\n",
        "   ae.to(device)\n",
        "   train(ae,5,optimizer,scheduler)\n",
        "   test_loss=test(ae)\n",
        "   print('test loss',test_loss)\n",
        "   loss_range.append(test_loss)\n",
        "no_of_neurons=[2,4,6,8,10,12,14,16]\n",
        "plt.plot(no_of_neurons,loss_range)\n",
        "plt.title('Reconstruction loss vs neurons')\n",
        "plt.xlabel('neurons')\n",
        "plt.ylabel('Reconstruction loss')\n",
        "plt.show()"
      ],
      "execution_count": null,
      "outputs": [
        {
          "output_type": "stream",
          "text": [
            "Epoch 1 of 5, Train Loss: 0.068\n",
            "Epoch 2 of 5, Train Loss: 0.067\n",
            "Epoch 3 of 5, Train Loss: 0.067\n",
            "Epoch 4 of 5, Train Loss: 0.067\n",
            "Epoch 5 of 5, Train Loss: 0.067\n",
            "test loss 0.06748806685209274\n",
            "Epoch 1 of 5, Train Loss: 0.060\n",
            "Epoch 2 of 5, Train Loss: 0.055\n",
            "Epoch 3 of 5, Train Loss: 0.052\n",
            "Epoch 4 of 5, Train Loss: 0.051\n",
            "Epoch 5 of 5, Train Loss: 0.049\n",
            "test loss 0.04877818309808079\n",
            "Epoch 1 of 5, Train Loss: 0.053\n",
            "Epoch 2 of 5, Train Loss: 0.039\n",
            "Epoch 3 of 5, Train Loss: 0.034\n",
            "Epoch 4 of 5, Train Loss: 0.032\n",
            "Epoch 5 of 5, Train Loss: 0.031\n",
            "test loss 0.03094981938506229\n",
            "Epoch 1 of 5, Train Loss: 0.051\n",
            "Epoch 2 of 5, Train Loss: 0.032\n",
            "Epoch 3 of 5, Train Loss: 0.028\n",
            "Epoch 4 of 5, Train Loss: 0.026\n",
            "Epoch 5 of 5, Train Loss: 0.025\n",
            "test loss 0.024446978363432462\n",
            "Epoch 1 of 5, Train Loss: 0.050\n",
            "Epoch 2 of 5, Train Loss: 0.032\n",
            "Epoch 3 of 5, Train Loss: 0.028\n",
            "Epoch 4 of 5, Train Loss: 0.025\n",
            "Epoch 5 of 5, Train Loss: 0.024\n",
            "test loss 0.023301097387565844\n",
            "Epoch 1 of 5, Train Loss: 0.051\n",
            "Epoch 2 of 5, Train Loss: 0.032\n",
            "Epoch 3 of 5, Train Loss: 0.029\n",
            "Epoch 4 of 5, Train Loss: 0.027\n",
            "Epoch 5 of 5, Train Loss: 0.026\n",
            "test loss 0.0247934897772119\n",
            "Epoch 1 of 5, Train Loss: 0.052\n",
            "Epoch 2 of 5, Train Loss: 0.035\n",
            "Epoch 3 of 5, Train Loss: 0.031\n",
            "Epoch 4 of 5, Train Loss: 0.028\n",
            "Epoch 5 of 5, Train Loss: 0.026\n",
            "test loss 0.02503457302345505\n",
            "Epoch 1 of 5, Train Loss: 0.050\n",
            "Epoch 2 of 5, Train Loss: 0.032\n",
            "Epoch 3 of 5, Train Loss: 0.028\n",
            "Epoch 4 of 5, Train Loss: 0.025\n",
            "Epoch 5 of 5, Train Loss: 0.024\n",
            "test loss 0.023615528982651384\n"
          ],
          "name": "stdout"
        },
        {
          "output_type": "display_data",
          "data": {
            "image/png": "[encoded data removed]",
            "text/plain": [
              "<Figure size 432x288 with 1 Axes>"
            ]
          },
          "metadata": {
            "tags": [],
            "needs_background": "light"
          }
        }
      ]
    },
    {
      "cell_type": "code",
      "metadata": {
        "colab": {
          "base_uri": "https://localhost:8080/",
          "height": 1000
        },
        "id": "d6TiK0TREnXZ",
        "outputId": "bfde2de1-079f-41a7-f20c-fa1b1930c86f"
      },
      "source": [
        "# // RMSprop optimizier\n",
        "import matplotlib.pyplot as plt\n",
        "import torch.optim as optim\n",
        "\n",
        "criterion = nn.MSELoss()\n",
        "ae= AE(16)\n",
        "ae.to(device)\n",
        "loss_range=[]\n",
        "for bottleneck_neuron in range(2,17,2):\n",
        "   ae= AE(bottleneck_neuron)\n",
        "   ae.to(device)\n",
        "   optimizer = torch.optim.RMSprop(ae.parameters())\n",
        "  #  scheduler = schedu.StepLR(optimizer, step_size=5, gamma=0.1)\n",
        "   train(ae,5,optimizer,None)\n",
        "   loss_range.append(test(ae))\n",
        "no_of_neurons=[2,4,6,8,10,12,14,16]\n",
        "plt.plot(no_of_neurons,loss_range)\n",
        "plt.title('Reconstruction loss vs neurons')\n",
        "plt.xlabel('neurons')\n",
        "plt.ylabel('Reconstruction loss')\n",
        "plt.show()"
      ],
      "execution_count": null,
      "outputs": [
        {
          "output_type": "stream",
          "text": [
            "Epoch 1 of 10, Train Loss: 0.166\n",
            "Epoch 2 of 10, Train Loss: 0.068\n",
            "Epoch 3 of 10, Train Loss: 0.067\n",
            "Epoch 4 of 10, Train Loss: 0.067\n",
            "Epoch 5 of 10, Train Loss: 0.067\n",
            "Epoch 6 of 10, Train Loss: 0.067\n",
            "Epoch 7 of 10, Train Loss: 0.067\n",
            "Epoch 8 of 10, Train Loss: 0.067\n",
            "Epoch 9 of 10, Train Loss: 0.067\n",
            "Epoch 10 of 10, Train Loss: 0.067\n",
            "Epoch 1 of 10, Train Loss: 0.116\n",
            "Epoch 2 of 10, Train Loss: 0.068\n",
            "Epoch 3 of 10, Train Loss: 0.067\n",
            "Epoch 4 of 10, Train Loss: 0.067\n",
            "Epoch 5 of 10, Train Loss: 0.067\n",
            "Epoch 6 of 10, Train Loss: 0.067\n",
            "Epoch 7 of 10, Train Loss: 0.067\n",
            "Epoch 8 of 10, Train Loss: 0.067\n",
            "Epoch 9 of 10, Train Loss: 0.067\n",
            "Epoch 10 of 10, Train Loss: 0.067\n",
            "Epoch 1 of 10, Train Loss: 822.957\n",
            "Epoch 2 of 10, Train Loss: 0.068\n",
            "Epoch 3 of 10, Train Loss: 0.067\n",
            "Epoch 4 of 10, Train Loss: 0.068\n",
            "Epoch 5 of 10, Train Loss: 0.067\n",
            "Epoch 6 of 10, Train Loss: 0.067\n",
            "Epoch 7 of 10, Train Loss: 0.067\n",
            "Epoch 8 of 10, Train Loss: 0.067\n",
            "Epoch 9 of 10, Train Loss: 0.067\n",
            "Epoch 10 of 10, Train Loss: 0.067\n",
            "Epoch 1 of 10, Train Loss: 426.902\n",
            "Epoch 2 of 10, Train Loss: 0.061\n",
            "Epoch 3 of 10, Train Loss: 0.058\n",
            "Epoch 4 of 10, Train Loss: 0.056\n",
            "Epoch 5 of 10, Train Loss: 0.055\n",
            "Epoch 6 of 10, Train Loss: 0.053\n",
            "Epoch 7 of 10, Train Loss: 0.049\n",
            "Epoch 8 of 10, Train Loss: 0.048\n",
            "Epoch 9 of 10, Train Loss: 0.047\n",
            "Epoch 10 of 10, Train Loss: 0.046\n",
            "Epoch 1 of 10, Train Loss: 7136.943\n",
            "Epoch 2 of 10, Train Loss: 0.068\n",
            "Epoch 3 of 10, Train Loss: 0.067\n",
            "Epoch 4 of 10, Train Loss: 0.068\n",
            "Epoch 5 of 10, Train Loss: 0.068\n",
            "Epoch 6 of 10, Train Loss: 0.067\n",
            "Epoch 7 of 10, Train Loss: 0.067\n",
            "Epoch 8 of 10, Train Loss: 0.067\n",
            "Epoch 9 of 10, Train Loss: 0.067\n",
            "Epoch 10 of 10, Train Loss: 0.067\n",
            "Epoch 1 of 10, Train Loss: 965.477\n",
            "Epoch 2 of 10, Train Loss: 0.058\n",
            "Epoch 3 of 10, Train Loss: 0.054\n",
            "Epoch 4 of 10, Train Loss: 0.051\n",
            "Epoch 5 of 10, Train Loss: 0.050\n",
            "Epoch 6 of 10, Train Loss: 0.048\n",
            "Epoch 7 of 10, Train Loss: 0.047\n",
            "Epoch 8 of 10, Train Loss: 0.044\n",
            "Epoch 9 of 10, Train Loss: 0.043\n",
            "Epoch 10 of 10, Train Loss: 0.042\n",
            "Epoch 1 of 10, Train Loss: 508.183\n",
            "Epoch 2 of 10, Train Loss: 0.055\n",
            "Epoch 3 of 10, Train Loss: 0.048\n",
            "Epoch 4 of 10, Train Loss: 0.045\n",
            "Epoch 5 of 10, Train Loss: 0.044\n",
            "Epoch 6 of 10, Train Loss: 0.043\n",
            "Epoch 7 of 10, Train Loss: 0.042\n",
            "Epoch 8 of 10, Train Loss: 0.041\n",
            "Epoch 9 of 10, Train Loss: 0.040\n",
            "Epoch 10 of 10, Train Loss: 0.040\n",
            "Epoch 1 of 10, Train Loss: 26.297\n",
            "Epoch 2 of 10, Train Loss: 0.068\n",
            "Epoch 3 of 10, Train Loss: 0.068\n",
            "Epoch 4 of 10, Train Loss: 0.067\n",
            "Epoch 5 of 10, Train Loss: 0.067\n",
            "Epoch 6 of 10, Train Loss: 0.067\n",
            "Epoch 7 of 10, Train Loss: 0.067\n",
            "Epoch 8 of 10, Train Loss: 0.067\n",
            "Epoch 9 of 10, Train Loss: 0.067\n",
            "Epoch 10 of 10, Train Loss: 0.067\n"
          ],
          "name": "stdout"
        },
        {
          "output_type": "display_data",
          "data": {
            "image/png": "[encoded data removed]",
            "text/plain": [
              "<Figure size 432x288 with 1 Axes>"
            ]
          },
          "metadata": {
            "tags": [],
            "needs_background": "light"
          }
        }
      ]
    },
    {
      "cell_type": "code",
      "metadata": {
        "id": "9wXYimWTt4HP"
      },
      "source": [
        "PATH = './q2.pth'\n",
        "torch.save(net_d.state_dict(), PATH)"
      ],
      "execution_count": null,
      "outputs": []
    },
    {
      "cell_type": "code",
      "metadata": {
        "colab": {
          "base_uri": "https://localhost:8080/",
          "height": 1000
        },
        "id": "Y8bDx6I7TsZs",
        "outputId": "3dc8ae71-54e8-4807-a4b3-abddabf1ee42"
      },
      "source": [
        "# // Sgd optimizier\n",
        "import matplotlib.pyplot as plt\n",
        "import torch.optim.lr_scheduler as schedu\n",
        "import torch.optim as optim\n",
        "criterion = nn.MSELoss()\n",
        "loss_range=[]\n",
        "for bottleneck_neuron in range(2,17,2):\n",
        "   ae= AE(bottleneck_neuron)\n",
        "   ae.to(device)\n",
        "   optimizer = optim.SGD(ae.parameters(), lr=0.001)\n",
        "   scheduler = schedu.StepLR(optimizer, step_size=3, gamma=0.1)\n",
        "   train(ae,5,optimizer,scheduler)\n",
        "   test_loss=test(ae)\n",
        "   print('test loss',test_loss)\n",
        "   loss_range.append(test_loss)\n",
        "no_of_neurons=[2,4,6,8,10,12,14,16]\n",
        "plt.plot(no_of_neurons,loss_range)\n",
        "plt.title('Reconstruction loss vs neurons')\n",
        "plt.xlabel('neurons')\n",
        "plt.ylabel('Reconstruction loss')\n",
        "plt.show()"
      ],
      "execution_count": null,
      "outputs": [
        {
          "output_type": "stream",
          "text": [
            "Epoch 1 of 5, Train Loss: 0.115\n",
            "Epoch 2 of 5, Train Loss: 0.114\n",
            "Epoch 3 of 5, Train Loss: 0.114\n",
            "Epoch 4 of 5, Train Loss: 0.114\n",
            "Epoch 5 of 5, Train Loss: 0.113\n",
            "test loss 0.11500922118938423\n",
            "Epoch 1 of 5, Train Loss: 0.115\n",
            "Epoch 2 of 5, Train Loss: 0.114\n",
            "Epoch 3 of 5, Train Loss: 0.114\n",
            "Epoch 4 of 5, Train Loss: 0.114\n",
            "Epoch 5 of 5, Train Loss: 0.113\n",
            "test loss 0.11510918647805347\n",
            "Epoch 1 of 5, Train Loss: 0.113\n",
            "Epoch 2 of 5, Train Loss: 0.113\n",
            "Epoch 3 of 5, Train Loss: 0.113\n",
            "Epoch 4 of 5, Train Loss: 0.113\n",
            "Epoch 5 of 5, Train Loss: 0.112\n",
            "test loss 0.11421201727058314\n",
            "Epoch 1 of 5, Train Loss: 0.115\n",
            "Epoch 2 of 5, Train Loss: 0.115\n",
            "Epoch 3 of 5, Train Loss: 0.114\n",
            "Epoch 4 of 5, Train Loss: 0.114\n",
            "Epoch 5 of 5, Train Loss: 0.114\n",
            "test loss 0.11549965301646462\n",
            "Epoch 1 of 5, Train Loss: 0.114\n",
            "Epoch 2 of 5, Train Loss: 0.114\n",
            "Epoch 3 of 5, Train Loss: 0.114\n",
            "Epoch 4 of 5, Train Loss: 0.113\n",
            "Epoch 5 of 5, Train Loss: 0.113\n",
            "test loss 0.11485471359536617\n",
            "Epoch 1 of 5, Train Loss: 0.113\n",
            "Epoch 2 of 5, Train Loss: 0.113\n",
            "Epoch 3 of 5, Train Loss: 0.113\n",
            "Epoch 4 of 5, Train Loss: 0.113\n",
            "Epoch 5 of 5, Train Loss: 0.113\n",
            "test loss 0.1143742099970202\n",
            "Epoch 1 of 5, Train Loss: 0.115\n",
            "Epoch 2 of 5, Train Loss: 0.115\n",
            "Epoch 3 of 5, Train Loss: 0.114\n",
            "Epoch 4 of 5, Train Loss: 0.114\n",
            "Epoch 5 of 5, Train Loss: 0.114\n",
            "test loss 0.11586767142709298\n",
            "Epoch 1 of 5, Train Loss: 0.114\n",
            "Epoch 2 of 5, Train Loss: 0.114\n",
            "Epoch 3 of 5, Train Loss: 0.114\n",
            "Epoch 4 of 5, Train Loss: 0.113\n",
            "Epoch 5 of 5, Train Loss: 0.113\n",
            "test loss 0.11499001274380503\n"
          ],
          "name": "stdout"
        },
        {
          "output_type": "display_data",
          "data": {
            "image/png": "[encoded data removed]",
            "text/plain": [
              "<Figure size 432x288 with 1 Axes>"
            ]
          },
          "metadata": {
            "tags": [],
            "needs_background": "light"
          }
        }
      ]
    },
    {
      "cell_type": "code",
      "metadata": {
        "colab": {
          "base_uri": "https://localhost:8080/",
          "height": 1000
        },
        "id": "SukkyAjp7hSR",
        "outputId": "eba3343b-070d-4a25-949c-48eb05ede028"
      },
      "source": [
        "# // Sgd with momentum optimizier\n",
        "import matplotlib.pyplot as plt\n",
        "import torch.optim.lr_scheduler as schedu\n",
        "import torch.optim as optim\n",
        "criterion = nn.MSELoss()\n",
        "loss_range=[]\n",
        "for bottleneck_neuron in range(2,17,2):\n",
        "   ae= AE(bottleneck_neuron)\n",
        "   ae.to(device)\n",
        "   optimizer = optim.SGD(ae.parameters(), lr=0.001,momentum=0.9)\n",
        "   scheduler = schedu.StepLR(optimizer, step_size=3, gamma=0.1)\n",
        "   train(ae,10,optimizer,scheduler)\n",
        "   test_loss=test(ae)\n",
        "   print('test loss',test_loss)\n",
        "   loss_range.append(test_loss)\n",
        "no_of_neurons=[2,4,6,8,10,12,14,16]\n",
        "plt.plot(no_of_neurons,loss_range)\n",
        "plt.title('Reconstruction loss vs neurons')\n",
        "plt.xlabel('neurons')\n",
        "plt.ylabel('Reconstruction loss')\n",
        "plt.show()"
      ],
      "execution_count": null,
      "outputs": [
        {
          "output_type": "stream",
          "text": [
            "Epoch 1 of 5, Train Loss: 0.113\n",
            "Epoch 2 of 5, Train Loss: 0.109\n",
            "Epoch 3 of 5, Train Loss: 0.107\n",
            "Epoch 4 of 5, Train Loss: 0.105\n",
            "Epoch 5 of 5, Train Loss: 0.105\n",
            "Epoch 6 of 5, Train Loss: 0.104\n",
            "Epoch 7 of 5, Train Loss: 0.104\n",
            "Epoch 8 of 5, Train Loss: 0.104\n",
            "Epoch 9 of 5, Train Loss: 0.104\n",
            "Epoch 10 of 5, Train Loss: 0.104\n",
            "test loss 0.10616987208022347\n",
            "Epoch 1 of 5, Train Loss: 0.112\n",
            "Epoch 2 of 5, Train Loss: 0.109\n",
            "Epoch 3 of 5, Train Loss: 0.107\n",
            "Epoch 4 of 5, Train Loss: 0.105\n",
            "Epoch 5 of 5, Train Loss: 0.105\n",
            "Epoch 6 of 5, Train Loss: 0.105\n",
            "Epoch 7 of 5, Train Loss: 0.105\n",
            "Epoch 8 of 5, Train Loss: 0.105\n",
            "Epoch 9 of 5, Train Loss: 0.104\n",
            "Epoch 10 of 5, Train Loss: 0.104\n",
            "test loss 0.10637651431032374\n",
            "Epoch 1 of 5, Train Loss: 0.113\n",
            "Epoch 2 of 5, Train Loss: 0.111\n",
            "Epoch 3 of 5, Train Loss: 0.109\n",
            "Epoch 4 of 5, Train Loss: 0.108\n",
            "Epoch 5 of 5, Train Loss: 0.107\n",
            "Epoch 6 of 5, Train Loss: 0.107\n",
            "Epoch 7 of 5, Train Loss: 0.107\n",
            "Epoch 8 of 5, Train Loss: 0.107\n",
            "Epoch 9 of 5, Train Loss: 0.107\n",
            "Epoch 10 of 5, Train Loss: 0.107\n",
            "test loss 0.10880392223973817\n",
            "Epoch 1 of 5, Train Loss: 0.112\n",
            "Epoch 2 of 5, Train Loss: 0.110\n",
            "Epoch 3 of 5, Train Loss: 0.108\n",
            "Epoch 4 of 5, Train Loss: 0.107\n",
            "Epoch 5 of 5, Train Loss: 0.107\n",
            "Epoch 6 of 5, Train Loss: 0.106\n",
            "Epoch 7 of 5, Train Loss: 0.106\n",
            "Epoch 8 of 5, Train Loss: 0.106\n",
            "Epoch 9 of 5, Train Loss: 0.106\n",
            "Epoch 10 of 5, Train Loss: 0.106\n",
            "test loss 0.10799233021238182\n",
            "Epoch 1 of 5, Train Loss: 0.113\n",
            "Epoch 2 of 5, Train Loss: 0.111\n",
            "Epoch 3 of 5, Train Loss: 0.108\n",
            "Epoch 4 of 5, Train Loss: 0.107\n",
            "Epoch 5 of 5, Train Loss: 0.107\n",
            "Epoch 6 of 5, Train Loss: 0.107\n",
            "Epoch 7 of 5, Train Loss: 0.107\n",
            "Epoch 8 of 5, Train Loss: 0.107\n",
            "Epoch 9 of 5, Train Loss: 0.106\n",
            "Epoch 10 of 5, Train Loss: 0.106\n",
            "test loss 0.10821400337581392\n",
            "Epoch 1 of 5, Train Loss: 0.114\n",
            "Epoch 2 of 5, Train Loss: 0.112\n",
            "Epoch 3 of 5, Train Loss: 0.110\n",
            "Epoch 4 of 5, Train Loss: 0.109\n",
            "Epoch 5 of 5, Train Loss: 0.108\n",
            "Epoch 6 of 5, Train Loss: 0.108\n",
            "Epoch 7 of 5, Train Loss: 0.108\n",
            "Epoch 8 of 5, Train Loss: 0.108\n",
            "Epoch 9 of 5, Train Loss: 0.108\n",
            "Epoch 10 of 5, Train Loss: 0.108\n",
            "test loss 0.10999573710598523\n",
            "Epoch 1 of 5, Train Loss: 0.113\n",
            "Epoch 2 of 5, Train Loss: 0.111\n",
            "Epoch 3 of 5, Train Loss: 0.109\n",
            "Epoch 4 of 5, Train Loss: 0.108\n",
            "Epoch 5 of 5, Train Loss: 0.107\n",
            "Epoch 6 of 5, Train Loss: 0.107\n",
            "Epoch 7 of 5, Train Loss: 0.107\n",
            "Epoch 8 of 5, Train Loss: 0.107\n",
            "Epoch 9 of 5, Train Loss: 0.107\n",
            "Epoch 10 of 5, Train Loss: 0.107\n",
            "test loss 0.1087707690423048\n",
            "Epoch 1 of 5, Train Loss: 0.114\n",
            "Epoch 2 of 5, Train Loss: 0.112\n",
            "Epoch 3 of 5, Train Loss: 0.110\n",
            "Epoch 4 of 5, Train Loss: 0.108\n",
            "Epoch 5 of 5, Train Loss: 0.108\n",
            "Epoch 6 of 5, Train Loss: 0.108\n",
            "Epoch 7 of 5, Train Loss: 0.108\n",
            "Epoch 8 of 5, Train Loss: 0.108\n",
            "Epoch 9 of 5, Train Loss: 0.108\n",
            "Epoch 10 of 5, Train Loss: 0.108\n",
            "test loss 0.1096558569918705\n"
          ],
          "name": "stdout"
        },
        {
          "output_type": "display_data",
          "data": {
            "image/png": "[encoded data removed]",
            "text/plain": [
              "<Figure size 432x288 with 1 Axes>"
            ]
          },
          "metadata": {
            "tags": [],
            "needs_background": "light"
          }
        }
      ]
    },
    {
      "cell_type": "code",
      "metadata": {
        "id": "1qF9gc598DHX"
      },
      "source": [
        "from sklearn.decomposition import PCA\n",
        "test_set_array = mnist_testset.data.numpy()\n",
        "test_set_array=test_set_array.reshape(len(test_set_array),-1)\n",
        "from sklearn.preprocessing import MinMaxScaler\n",
        "scaler = MinMaxScaler()\n",
        "test_set_array=scaler.fit_transform(test_set_array)"
      ],
      "execution_count": null,
      "outputs": []
    },
    {
      "cell_type": "code",
      "metadata": {
        "colab": {
          "base_uri": "https://localhost:8080/"
        },
        "id": "cX1aWt_7kHGQ",
        "outputId": "d894ff2b-596c-44c2-c6e4-d2c474a35e83"
      },
      "source": [
        "from sklearn.decomposition import PCA\n",
        "from sklearn.metrics import mean_squared_error\n",
        "for i in range(10,780,20):\n",
        "    pca = PCA(n_components=i)\n",
        "    X_test_pca = pca.fit_transform(test_set_array)\n",
        "    proj = pca.inverse_transform(X_test_pca)\n",
        "    print('For i=',i ,'eigen vectors ',mean_squared_error(proj, test_set_array))\n",
        "     "
      ],
      "execution_count": null,
      "outputs": [
        {
          "output_type": "stream",
          "text": [
            "For i= 10 eigen vectors  0.03391267913403302\n",
            "For i= 30 eigen vectors  0.017546188559824497\n",
            "For i= 50 eigen vectors  0.011361943829087933\n",
            "For i= 70 eigen vectors  0.008141354884508907\n",
            "For i= 90 eigen vectors  0.006233361436659705\n",
            "For i= 110 eigen vectors  0.004959097055928616\n",
            "For i= 130 eigen vectors  0.004049976769412785\n",
            "For i= 150 eigen vectors  0.0033482672135297965\n",
            "For i= 170 eigen vectors  0.0028082673478062445\n",
            "For i= 190 eigen vectors  0.002366969446317644\n",
            "For i= 210 eigen vectors  0.001994493158584326\n",
            "For i= 230 eigen vectors  0.0016780303366491472\n",
            "For i= 250 eigen vectors  0.0014098683817009986\n",
            "For i= 270 eigen vectors  0.0011740235083670587\n",
            "For i= 290 eigen vectors  0.0009680461763420175\n",
            "For i= 310 eigen vectors  0.0007905920986018032\n",
            "For i= 330 eigen vectors  0.0006373504342651034\n",
            "For i= 350 eigen vectors  0.0005044366894753079\n",
            "For i= 370 eigen vectors  0.0003915470989488742\n",
            "For i= 390 eigen vectors  0.0002980924419434772\n",
            "For i= 410 eigen vectors  0.00022229293445162021\n",
            "For i= 430 eigen vectors  0.00016333340866167236\n",
            "For i= 450 eigen vectors  0.00011867056987666884\n",
            "For i= 470 eigen vectors  8.426646150617434e-05\n",
            "For i= 490 eigen vectors  5.81378550929329e-05\n",
            "For i= 510 eigen vectors  3.9170290572870215e-05\n",
            "For i= 530 eigen vectors  2.5609012795659617e-05\n",
            "For i= 550 eigen vectors  1.5719311424076366e-05\n",
            "For i= 570 eigen vectors  9.160482108798821e-06\n",
            "For i= 590 eigen vectors  5.049090847693041e-06\n",
            "For i= 610 eigen vectors  2.413193832204687e-06\n",
            "For i= 630 eigen vectors  7.697270609280506e-07\n",
            "For i= 650 eigen vectors  6.29885752504168e-08\n",
            "For i= 670 eigen vectors  6.625408379076468e-31\n",
            "For i= 690 eigen vectors  6.65382990089611e-31\n",
            "For i= 710 eigen vectors  6.672927912425353e-31\n",
            "For i= 730 eigen vectors  6.691517277796556e-31\n",
            "For i= 750 eigen vectors  6.711170775587042e-31\n",
            "For i= 770 eigen vectors  6.729345666851607e-31\n"
          ],
          "name": "stdout"
        }
      ]
    },
    {
      "cell_type": "code",
      "metadata": {
        "id": "GqznhSrFmtwt"
      },
      "source": [
        "' Accuracy of auto encoder for rms prop optimizatin is about 0.02 '\n",
        "' Accuracy of pca for 10 eigen components  for rms prop optimizatin is about 0.03'"
      ],
      "execution_count": null,
      "outputs": []
    }
  ]
}