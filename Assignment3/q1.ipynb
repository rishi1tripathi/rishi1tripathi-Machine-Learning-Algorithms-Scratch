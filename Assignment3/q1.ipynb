{
  "nbformat": 4,
  "nbformat_minor": 0,
  "metadata": {
    "colab": {
      "name": "assignment3_q1.ipynb",
      "provenance": [],
      "collapsed_sections": []
    },
    "kernelspec": {
      "name": "python3",
      "display_name": "Python 3"
    },
    "language_info": {
      "name": "python"
    },
    "widgets": {
      "application/vnd.jupyter.widget-state+json": {
        "351dff18aa0148428883506227da41b4": {
          "model_module": "@jupyter-widgets/controls",
          "model_name": "HBoxModel",
          "state": {
            "_view_name": "HBoxView",
            "_dom_classes": [],
            "_model_name": "HBoxModel",
            "_view_module": "@jupyter-widgets/controls",
            "_model_module_version": "1.5.0",
            "_view_count": null,
            "_view_module_version": "1.5.0",
            "box_style": "",
            "layout": "IPY_MODEL_df619b1c6593457cb66bcc58b3fd5b26",
            "_model_module": "@jupyter-widgets/controls",
            "children": [
              "IPY_MODEL_fa31f77ce2a149079b63b5408ae9c1e7",
              "IPY_MODEL_89bea405b88945e19acacaaa88517570"
            ]
          }
        },
        "df619b1c6593457cb66bcc58b3fd5b26": {
          "model_module": "@jupyter-widgets/base",
          "model_name": "LayoutModel",
          "state": {
            "_view_name": "LayoutView",
            "grid_template_rows": null,
            "right": null,
            "justify_content": null,
            "_view_module": "@jupyter-widgets/base",
            "overflow": null,
            "_model_module_version": "1.2.0",
            "_view_count": null,
            "flex_flow": null,
            "width": null,
            "min_width": null,
            "border": null,
            "align_items": null,
            "bottom": null,
            "_model_module": "@jupyter-widgets/base",
            "top": null,
            "grid_column": null,
            "overflow_y": null,
            "overflow_x": null,
            "grid_auto_flow": null,
            "grid_area": null,
            "grid_template_columns": null,
            "flex": null,
            "_model_name": "LayoutModel",
            "justify_items": null,
            "grid_row": null,
            "max_height": null,
            "align_content": null,
            "visibility": null,
            "align_self": null,
            "height": null,
            "min_height": null,
            "padding": null,
            "grid_auto_rows": null,
            "grid_gap": null,
            "max_width": null,
            "order": null,
            "_view_module_version": "1.2.0",
            "grid_template_areas": null,
            "object_position": null,
            "object_fit": null,
            "grid_auto_columns": null,
            "margin": null,
            "display": null,
            "left": null
          }
        },
        "fa31f77ce2a149079b63b5408ae9c1e7": {
          "model_module": "@jupyter-widgets/controls",
          "model_name": "FloatProgressModel",
          "state": {
            "_view_name": "ProgressView",
            "style": "IPY_MODEL_8c245da9f44143fba8d6cdcbd91ebbc7",
            "_dom_classes": [],
            "description": "",
            "_model_name": "FloatProgressModel",
            "bar_style": "success",
            "max": 170498071,
            "_view_module": "@jupyter-widgets/controls",
            "_model_module_version": "1.5.0",
            "value": 170498071,
            "_view_count": null,
            "_view_module_version": "1.5.0",
            "orientation": "horizontal",
            "min": 0,
            "description_tooltip": null,
            "_model_module": "@jupyter-widgets/controls",
            "layout": "IPY_MODEL_6af2ce1e1e064afa9c77479fadefb2d4"
          }
        },
        "89bea405b88945e19acacaaa88517570": {
          "model_module": "@jupyter-widgets/controls",
          "model_name": "HTMLModel",
          "state": {
            "_view_name": "HTMLView",
            "style": "IPY_MODEL_abbdc581d22743ea974ea01d256d69b9",
            "_dom_classes": [],
            "description": "",
            "_model_name": "HTMLModel",
            "placeholder": "​",
            "_view_module": "@jupyter-widgets/controls",
            "_model_module_version": "1.5.0",
            "value": " 170499072/? [07:26&lt;00:00, 381504.23it/s]",
            "_view_count": null,
            "_view_module_version": "1.5.0",
            "description_tooltip": null,
            "_model_module": "@jupyter-widgets/controls",
            "layout": "IPY_MODEL_d0d7d343d8ca43e6bee6f347efb146ff"
          }
        },
        "8c245da9f44143fba8d6cdcbd91ebbc7": {
          "model_module": "@jupyter-widgets/controls",
          "model_name": "ProgressStyleModel",
          "state": {
            "_view_name": "StyleView",
            "_model_name": "ProgressStyleModel",
            "description_width": "initial",
            "_view_module": "@jupyter-widgets/base",
            "_model_module_version": "1.5.0",
            "_view_count": null,
            "_view_module_version": "1.2.0",
            "bar_color": null,
            "_model_module": "@jupyter-widgets/controls"
          }
        },
        "6af2ce1e1e064afa9c77479fadefb2d4": {
          "model_module": "@jupyter-widgets/base",
          "model_name": "LayoutModel",
          "state": {
            "_view_name": "LayoutView",
            "grid_template_rows": null,
            "right": null,
            "justify_content": null,
            "_view_module": "@jupyter-widgets/base",
            "overflow": null,
            "_model_module_version": "1.2.0",
            "_view_count": null,
            "flex_flow": null,
            "width": null,
            "min_width": null,
            "border": null,
            "align_items": null,
            "bottom": null,
            "_model_module": "@jupyter-widgets/base",
            "top": null,
            "grid_column": null,
            "overflow_y": null,
            "overflow_x": null,
            "grid_auto_flow": null,
            "grid_area": null,
            "grid_template_columns": null,
            "flex": null,
            "_model_name": "LayoutModel",
            "justify_items": null,
            "grid_row": null,
            "max_height": null,
            "align_content": null,
            "visibility": null,
            "align_self": null,
            "height": null,
            "min_height": null,
            "padding": null,
            "grid_auto_rows": null,
            "grid_gap": null,
            "max_width": null,
            "order": null,
            "_view_module_version": "1.2.0",
            "grid_template_areas": null,
            "object_position": null,
            "object_fit": null,
            "grid_auto_columns": null,
            "margin": null,
            "display": null,
            "left": null
          }
        },
        "abbdc581d22743ea974ea01d256d69b9": {
          "model_module": "@jupyter-widgets/controls",
          "model_name": "DescriptionStyleModel",
          "state": {
            "_view_name": "StyleView",
            "_model_name": "DescriptionStyleModel",
            "description_width": "",
            "_view_module": "@jupyter-widgets/base",
            "_model_module_version": "1.5.0",
            "_view_count": null,
            "_view_module_version": "1.2.0",
            "_model_module": "@jupyter-widgets/controls"
          }
        },
        "d0d7d343d8ca43e6bee6f347efb146ff": {
          "model_module": "@jupyter-widgets/base",
          "model_name": "LayoutModel",
          "state": {
            "_view_name": "LayoutView",
            "grid_template_rows": null,
            "right": null,
            "justify_content": null,
            "_view_module": "@jupyter-widgets/base",
            "overflow": null,
            "_model_module_version": "1.2.0",
            "_view_count": null,
            "flex_flow": null,
            "width": null,
            "min_width": null,
            "border": null,
            "align_items": null,
            "bottom": null,
            "_model_module": "@jupyter-widgets/base",
            "top": null,
            "grid_column": null,
            "overflow_y": null,
            "overflow_x": null,
            "grid_auto_flow": null,
            "grid_area": null,
            "grid_template_columns": null,
            "flex": null,
            "_model_name": "LayoutModel",
            "justify_items": null,
            "grid_row": null,
            "max_height": null,
            "align_content": null,
            "visibility": null,
            "align_self": null,
            "height": null,
            "min_height": null,
            "padding": null,
            "grid_auto_rows": null,
            "grid_gap": null,
            "max_width": null,
            "order": null,
            "_view_module_version": "1.2.0",
            "grid_template_areas": null,
            "object_position": null,
            "object_fit": null,
            "grid_auto_columns": null,
            "margin": null,
            "display": null,
            "left": null
          }
        }
      }
    }
  },
  "cells": [
    {
      "cell_type": "code",
      "metadata": {
        "id": "u5FO4upeq7Hq"
      },
      "source": [
        "import torch\n",
        "import torchvision\n",
        "import torchvision.transforms as transforms"
      ],
      "execution_count": 2,
      "outputs": []
    },
    {
      "cell_type": "code",
      "metadata": {
        "colab": {
          "base_uri": "https://localhost:8080/",
          "height": 122,
          "referenced_widgets": [
            "351dff18aa0148428883506227da41b4",
            "df619b1c6593457cb66bcc58b3fd5b26",
            "fa31f77ce2a149079b63b5408ae9c1e7",
            "89bea405b88945e19acacaaa88517570",
            "8c245da9f44143fba8d6cdcbd91ebbc7",
            "6af2ce1e1e064afa9c77479fadefb2d4",
            "abbdc581d22743ea974ea01d256d69b9",
            "d0d7d343d8ca43e6bee6f347efb146ff"
          ]
        },
        "id": "toitVCEbrE63",
        "outputId": "e4ac473d-c41a-4e1a-b389-7dcbc92e4e3c"
      },
      "source": [
        "transform = transforms.Compose(\n",
        "    [transforms.ToTensor(),\n",
        "     transforms.Normalize((0.5, 0.5, 0.5), (0.5, 0.5, 0.5))])\n",
        "\n",
        "batch_size = 4\n",
        "\n",
        "trainset = torchvision.datasets.CIFAR10(root='./data', train=True,\n",
        "                                        download=True, transform=transform)\n",
        "trainloader = torch.utils.data.DataLoader(trainset, batch_size=batch_size,\n",
        "                                          shuffle=True, num_workers=2)\n",
        "\n",
        "testset = torchvision.datasets.CIFAR10(root='./data', train=False,\n",
        "                                       download=True, transform=transform)\n",
        "testloader = torch.utils.data.DataLoader(testset, batch_size=batch_size,\n",
        "                                         shuffle=False, num_workers=2)\n",
        "\n"
      ],
      "execution_count": 3,
      "outputs": [
        {
          "output_type": "stream",
          "text": [
            "Downloading https://www.cs.toronto.edu/~kriz/cifar-10-python.tar.gz to ./data/cifar-10-python.tar.gz\n"
          ],
          "name": "stdout"
        },
        {
          "output_type": "display_data",
          "data": {
            "application/vnd.jupyter.widget-view+json": {
              "model_id": "351dff18aa0148428883506227da41b4",
              "version_minor": 0,
              "version_major": 2
            },
            "text/plain": [
              "HBox(children=(FloatProgress(value=0.0, max=170498071.0), HTML(value='')))"
            ]
          },
          "metadata": {
            "tags": []
          }
        },
        {
          "output_type": "stream",
          "text": [
            "\n",
            "Extracting ./data/cifar-10-python.tar.gz to ./data\n",
            "Files already downloaded and verified\n"
          ],
          "name": "stdout"
        }
      ]
    },
    {
      "cell_type": "code",
      "metadata": {
        "id": "ailJ85rO7OAy"
      },
      "source": [
        ""
      ],
      "execution_count": null,
      "outputs": []
    },
    {
      "cell_type": "code",
      "metadata": {
        "id": "gtdtWhB67I2Y",
        "colab": {
          "base_uri": "https://localhost:8080/"
        },
        "outputId": "88a90dd6-fbed-454d-ffd2-99d2d1989e45"
      },
      "source": [
        "import torch.nn as nn\n",
        "import torch.nn.functional as F\n",
        "\n",
        "device = torch.device(\"cuda:0\" if torch.cuda.is_available() else \"cpu\")\n",
        "\n",
        "# Assuming that we are on a CUDA machine, this should print a CUDA device:\n",
        "\n",
        "print(device)\n",
        "\n",
        "class Net1(nn.Module):\n",
        "    def __init__(self):\n",
        "        super(Net1, self).__init__()\n",
        "        self.pad= nn.ZeroPad2d(2)\n",
        "        self.conv1 = nn.Conv2d(3, 6, 5)\n",
        "        self.norm= nn.BatchNorm2d(6)\n",
        "        self.pool = nn.MaxPool2d(2, 2)\n",
        "        self.fc1 = nn.Linear(6* 16 * 16, 10)\n",
        "    def forward(self, x):\n",
        "        x = self.pool(F.relu(self.norm(self.conv1(self.pad(x)))))\n",
        "        x = x.view(-1, 6* 16 * 16)\n",
        "        x = self.fc1(x)\n",
        "        return x\n",
        "\n",
        "\n",
        "\n",
        "    "
      ],
      "execution_count": 4,
      "outputs": [
        {
          "output_type": "stream",
          "text": [
            "cpu\n"
          ],
          "name": "stdout"
        }
      ]
    },
    {
      "cell_type": "code",
      "metadata": {
        "id": "xeaFng3rHE5W"
      },
      "source": [
        ""
      ],
      "execution_count": null,
      "outputs": []
    },
    {
      "cell_type": "code",
      "metadata": {
        "id": "DaHxBBC27O50",
        "colab": {
          "base_uri": "https://localhost:8080/"
        },
        "outputId": "5483d8b9-7970-4867-ab06-c7f173175c70"
      },
      "source": [
        "import torch.optim as optim\n",
        "net1= Net1()\n",
        "criterion = nn.CrossEntropyLoss()\n",
        "optimizer = optim.SGD(net1.parameters(), lr=0.001, momentum=0.9)\n",
        "net1.to(device)"
      ],
      "execution_count": null,
      "outputs": [
        {
          "output_type": "execute_result",
          "data": {
            "text/plain": [
              "Net1(\n",
              "  (pad): ZeroPad2d(padding=(2, 2, 2, 2), value=0.0)\n",
              "  (conv1): Conv2d(3, 6, kernel_size=(5, 5), stride=(1, 1))\n",
              "  (norm): BatchNorm2d(6, eps=1e-05, momentum=0.1, affine=True, track_running_stats=True)\n",
              "  (pool): MaxPool2d(kernel_size=2, stride=2, padding=0, dilation=1, ceil_mode=False)\n",
              "  (fc1): Linear(in_features=1536, out_features=10, bias=True)\n",
              ")"
            ]
          },
          "metadata": {
            "tags": []
          },
          "execution_count": 6
        }
      ]
    },
    {
      "cell_type": "code",
      "metadata": {
        "id": "DEBLGHG--gCu"
      },
      "source": [
        "PATH = './cifar_net.pth'\n",
        "torch.save(net1.state_dict(), PATH)"
      ],
      "execution_count": null,
      "outputs": []
    },
    {
      "cell_type": "code",
      "metadata": {
        "id": "CoWZ8mQFCtQJ"
      },
      "source": [
        "# Removed batch layer\n",
        "class Net_no_batch(nn.Module):\n",
        "    def __init__(self):\n",
        "        super(Net_no_batch, self).__init__()\n",
        "        self.pad= nn.ZeroPad2d(2)\n",
        "        self.conv1 = nn.Conv2d(3, 6, 5)\n",
        "        \n",
        "        self.pool = nn.MaxPool2d(2, 2)\n",
        "        self.fc1 = nn.Linear(6* 16 * 16, 10)\n",
        "    def forward(self, x):\n",
        "        x = self.pool(F.relu(self.conv1(self.pad(x))))\n",
        "        x = x.view(-1, 6* 16 * 16)\n",
        "        x = self.fc1(x)\n",
        "        return x\n",
        "import torch.optim as optim\n",
        "net_no_batch= Net_no_batch()\n",
        "net_no_batch.to(device)\n",
        "criterion = nn.CrossEntropyLoss()\n",
        "optimizer = optim.SGD(net_no_batch.parameters(), lr=0.001, momentum=0.9)"
      ],
      "execution_count": null,
      "outputs": []
    },
    {
      "cell_type": "code",
      "metadata": {
        "colab": {
          "base_uri": "https://localhost:8080/"
        },
        "id": "58ubQaosHF8e",
        "outputId": "8685eb5d-bddd-44b7-d48e-85383d3fdb0f"
      },
      "source": [
        "for epoch in range(3):  # loop over the dataset multiple times\n",
        "    running_loss = 0.0\n",
        "    for i, data in enumerate(trainloader, 0):\n",
        "        # get the inputs; data is a list of [inputs, labels]\n",
        "        inputs, labels = data[0].to(device), data[1].to(device)\n",
        "        # zero the parameter gradients\n",
        "        optimizer.zero_grad()\n",
        "        \n",
        "        # forward + backward + optimize\n",
        "        outputs = net_no_batch(inputs)\n",
        "        loss = criterion(outputs, labels)\n",
        "        loss.backward()\n",
        "        optimizer.step()\n",
        "\n",
        "        # print statistics\n",
        "        running_loss += loss.item()\n",
        "\n",
        "        if i % 2000 == 1999:    # print every 2000 mini-batches\n",
        "            print('[%d, %5d] loss: %.3f' %\n",
        "                  (epoch + 1, i + 1, running_loss / 2000))\n",
        "            running_loss = 0.0\n",
        "\n",
        "print('Finished Training')\n",
        "correct = 0\n",
        "total = 0\n",
        "with torch.no_grad():\n",
        "    for data in testloader:\n",
        "        images, labels = data[0].to(device), data[1].to(device)\n",
        "        outputs = net_no_batch(images)\n",
        "        _, predicted = torch.max(outputs.data, 1)\n",
        "        total += labels.size(0)\n",
        "        correct += (predicted == labels).sum().item()\n",
        "\n",
        "print('Accuracy of the network on the 10000 test images: %d %%' % (\n",
        "    100 * correct / total))"
      ],
      "execution_count": null,
      "outputs": [
        {
          "output_type": "stream",
          "text": [
            "[1,  2000] loss: 1.806\n",
            "[1,  4000] loss: 1.553\n",
            "[1,  6000] loss: 1.508\n",
            "[1,  8000] loss: 1.481\n",
            "[1, 10000] loss: 1.436\n",
            "[1, 12000] loss: 1.399\n",
            "[2,  2000] loss: 1.362\n",
            "[2,  4000] loss: 1.317\n",
            "[2,  6000] loss: 1.335\n",
            "[2,  8000] loss: 1.376\n",
            "[2, 10000] loss: 1.335\n",
            "[2, 12000] loss: 1.355\n",
            "[3,  2000] loss: 1.256\n",
            "[3,  4000] loss: 1.267\n",
            "[3,  6000] loss: 1.291\n",
            "[3,  8000] loss: 1.297\n",
            "[3, 10000] loss: 1.300\n",
            "[3, 12000] loss: 1.306\n",
            "Finished Training\n",
            "Accuracy of the network on the 10000 test images: 51 %\n"
          ],
          "name": "stdout"
        }
      ]
    },
    {
      "cell_type": "code",
      "metadata": {
        "id": "5tUwDdHJiPjw"
      },
      "source": [
        "# Fully connected two layers\n",
        "class Net_b(nn.Module):\n",
        "    def __init__(self):\n",
        "        super(Net_b, self).__init__()\n",
        "        self.pad= nn.ZeroPad2d(2)\n",
        "        self.conv1 = nn.Conv2d(3, 16, 5)\n",
        "        self.norm= nn.BatchNorm2d(16)\n",
        "        self.pool = nn.MaxPool2d(2, 2)\n",
        "        self.fc1 = nn.Linear(16* 16 * 16, 64)\n",
        "        self.fc2 = nn.Linear(64, 10)\n",
        "    def forward(self, x):\n",
        "        x = self.pool(F.relu(self.norm(self.conv1(self.pad(x)))))\n",
        "        x = x.view(-1, 16* 16 * 16)\n",
        "        x = self.fc1(x)\n",
        "        x = self.fc2(x)\n",
        "        return x\n",
        "import torch.optim as optim\n",
        "net_b= Net_b()\n",
        "net_b.to(device)\n",
        "criterion = nn.CrossEntropyLoss()\n",
        "optimizer = optim.SGD(net_b.parameters(), lr=0.001, momentum=0.9)\n",
        "\n"
      ],
      "execution_count": null,
      "outputs": []
    },
    {
      "cell_type": "code",
      "metadata": {
        "colab": {
          "base_uri": "https://localhost:8080/"
        },
        "id": "1fA24V1uivo6",
        "outputId": "edb255a6-2d71-4cb1-9514-ff4f2283402f"
      },
      "source": [
        "for epoch in range(3):  # loop over the dataset multiple times\n",
        "    running_loss = 0.0\n",
        "    for i, data in enumerate(trainloader, 0):\n",
        "        # get the inputs; data is a list of [inputs, labels]\n",
        "        inputs, labels = data[0].to(device), data[1].to(device)\n",
        "        # zero the parameter gradients\n",
        "        optimizer.zero_grad()\n",
        "        \n",
        "        # forward + backward + optimize\n",
        "        outputs = net_b(inputs)\n",
        "        loss = criterion(outputs, labels)\n",
        "        loss.backward()\n",
        "        optimizer.step()\n",
        "\n",
        "        # print statistics\n",
        "        running_loss += loss.item()\n",
        "\n",
        "        if i % 2000 == 1999:    # print every 2000 mini-batches\n",
        "            print('[%d, %5d] loss: %.3f' %\n",
        "                  (epoch + 1, i + 1, running_loss / 2000))\n",
        "            running_loss = 0.0\n",
        "\n",
        "print('Finished Training')\n",
        "correct = 0\n",
        "total = 0\n",
        "with torch.no_grad():\n",
        "    for data in testloader:\n",
        "        images, labels = data[0].to(device), data[1].to(device)\n",
        "        outputs = net_b(images)\n",
        "        _, predicted = torch.max(outputs.data, 1)\n",
        "        total += labels.size(0)\n",
        "        correct += (predicted == labels).sum().item()\n",
        "\n",
        "print('Accuracy of the network on the 10000 test images: %d %%' % (\n",
        "    100 * correct / total))"
      ],
      "execution_count": null,
      "outputs": [
        {
          "output_type": "stream",
          "text": [
            "[1,  2000] loss: 1.770\n",
            "[1,  4000] loss: 1.543\n",
            "[1,  6000] loss: 1.470\n",
            "[1,  8000] loss: 1.396\n",
            "[1, 10000] loss: 1.347\n",
            "[1, 12000] loss: 1.341\n",
            "[2,  2000] loss: 1.250\n",
            "[2,  4000] loss: 1.229\n",
            "[2,  6000] loss: 1.213\n",
            "[2,  8000] loss: 1.224\n",
            "[2, 10000] loss: 1.201\n",
            "[2, 12000] loss: 1.169\n",
            "[3,  2000] loss: 1.119\n",
            "[3,  4000] loss: 1.143\n",
            "[3,  6000] loss: 1.133\n",
            "[3,  8000] loss: 1.127\n",
            "[3, 10000] loss: 1.133\n",
            "[3, 12000] loss: 1.132\n",
            "Finished Training\n",
            "Accuracy of the network on the 10000 test images: 57 %\n"
          ],
          "name": "stdout"
        }
      ]
    },
    {
      "cell_type": "code",
      "metadata": {
        "id": "BZbxpB2akLNt"
      },
      "source": [
        "# 2 layer conv,batch,max pool\n",
        "class Net_c(nn.Module):\n",
        "    def __init__(self):\n",
        "        super(Net_c, self).__init__()\n",
        "        self.pad= nn.ZeroPad2d(2)\n",
        "        self.conv1 = nn.Conv2d(3, 16, 5)\n",
        "        self.conv2 = nn.Conv2d(16, 32, 5)\n",
        "        self.norm1= nn.BatchNorm2d(16)\n",
        "        self.norm2= nn.BatchNorm2d(32)\n",
        "        self.pool = nn.MaxPool2d(2, 2)\n",
        "        self.fc1 = nn.Linear(32* 8 * 8, 64)\n",
        "        self.fc2 = nn.Linear(64, 10)\n",
        "    def forward(self, x):\n",
        "        x = self.pool(F.relu(self.norm1(self.conv1(self.pad(x)))))\n",
        "        x = self.pool(F.relu(self.norm2(self.conv2(self.pad(x)))))\n",
        "        x = x.view(-1, 32* 8 * 8)\n",
        "        x = self.fc1(x)\n",
        "        x = self.fc2(x)\n",
        "        return x\n",
        "import torch.optim as optim\n",
        "net_c= Net_c()\n",
        "net_c.to(device)\n",
        "criterion = nn.CrossEntropyLoss()\n",
        "optimizer = optim.SGD(net_c.parameters(), lr=0.001, momentum=0.9)"
      ],
      "execution_count": null,
      "outputs": []
    },
    {
      "cell_type": "code",
      "metadata": {
        "colab": {
          "base_uri": "https://localhost:8080/"
        },
        "id": "DlySOmtTlAEl",
        "outputId": "5c198e9c-d8e1-4ff4-95ff-1b222dd66191"
      },
      "source": [
        "for epoch in range(5):  # loop over the dataset multiple times\n",
        "    running_loss = 0.0\n",
        "    for i, data in enumerate(trainloader, 0):\n",
        "        # get the inputs; data is a list of [inputs, labels]\n",
        "        inputs, labels = data[0].to(device), data[1].to(device)\n",
        "        # zero the parameter gradients\n",
        "        optimizer.zero_grad()\n",
        "        \n",
        "        # forward + backward + optimize\n",
        "        outputs = net_c(inputs)\n",
        "        loss = criterion(outputs, labels)\n",
        "        loss.backward()\n",
        "        optimizer.step()\n",
        "\n",
        "        # print statistics\n",
        "        running_loss += loss.item()\n",
        "\n",
        "        if i % 2000 == 1999:    # print every 2000 mini-batches\n",
        "            print('[%d, %5d] loss: %.3f' %\n",
        "                  (epoch + 1, i + 1, running_loss / 2000))\n",
        "            running_loss = 0.0\n",
        "\n",
        "print('Finished Training')\n",
        "correct = 0\n",
        "total = 0\n",
        "with torch.no_grad():\n",
        "    for data in testloader:\n",
        "        images, labels = data[0].to(device), data[1].to(device)\n",
        "        outputs = net_c(images)\n",
        "        _, predicted = torch.max(outputs.data, 1)\n",
        "        total += labels.size(0)\n",
        "        correct += (predicted == labels).sum().item()\n",
        "\n",
        "print('Accuracy of the network on the 10000 test images: %d %%' % (\n",
        "    100 * correct / total))"
      ],
      "execution_count": null,
      "outputs": [
        {
          "output_type": "stream",
          "text": [
            "[1,  2000] loss: 1.757\n",
            "[1,  4000] loss: 1.472\n",
            "[1,  6000] loss: 1.359\n",
            "[1,  8000] loss: 1.254\n",
            "[1, 10000] loss: 1.207\n",
            "[1, 12000] loss: 1.133\n",
            "[2,  2000] loss: 1.075\n",
            "[2,  4000] loss: 1.052\n",
            "[2,  6000] loss: 1.040\n",
            "[2,  8000] loss: 1.027\n",
            "[2, 10000] loss: 0.990\n",
            "[2, 12000] loss: 1.002\n",
            "[3,  2000] loss: 0.921\n",
            "[3,  4000] loss: 0.943\n",
            "[3,  6000] loss: 0.922\n",
            "[3,  8000] loss: 0.911\n",
            "[3, 10000] loss: 0.929\n",
            "[3, 12000] loss: 0.899\n",
            "[4,  2000] loss: 0.834\n",
            "[4,  4000] loss: 0.845\n",
            "[4,  6000] loss: 0.865\n",
            "[4,  8000] loss: 0.849\n",
            "[4, 10000] loss: 0.864\n",
            "[4, 12000] loss: 0.841\n",
            "[5,  2000] loss: 0.807\n",
            "[5,  4000] loss: 0.811\n",
            "[5,  6000] loss: 0.784\n",
            "[5,  8000] loss: 0.806\n",
            "[5, 10000] loss: 0.815\n",
            "[5, 12000] loss: 0.814\n",
            "Finished Training\n",
            "Accuracy of the network on the 10000 test images: 69 %\n"
          ],
          "name": "stdout"
        }
      ]
    },
    {
      "cell_type": "code",
      "metadata": {
        "id": "oHmx7hDgrBaw"
      },
      "source": [
        "# 3 layer conv,batch,max pool\n",
        "class Net_d(nn.Module):\n",
        "    def __init__(self):\n",
        "        super(Net_d, self).__init__()\n",
        "        self.pad= nn.ZeroPad2d(2)\n",
        "        self.conv1 = nn.Conv2d(3, 16, 5)\n",
        "        self.conv2 = nn.Conv2d(16, 32, 5)\n",
        "        self.conv3 = nn.Conv2d(32, 64, 5)\n",
        "        self.norm1= nn.BatchNorm2d(16)\n",
        "        self.norm2= nn.BatchNorm2d(32)\n",
        "        self.norm3= nn.BatchNorm2d(64)\n",
        "        self.pool = nn.MaxPool2d(2, 2)\n",
        "        self.fc1 = nn.Linear(64* 4 * 4, 64)\n",
        "        self.fc2 = nn.Linear(64, 10)\n",
        "    def forward(self, x):\n",
        "        x = self.pool(F.relu(self.norm1(self.conv1(self.pad(x)))))\n",
        "        x = self.pool(F.relu(self.norm2(self.conv2(self.pad(x)))))\n",
        "        x = self.pool(F.relu(self.norm3(self.conv3(self.pad(x)))))\n",
        "        x = x.view(-1, 64* 4 * 4)\n",
        "        x = self.fc1(x)\n",
        "        x = self.fc2(x)\n",
        "        return x\n",
        "import torch.optim as optim\n",
        "net_d= Net_d()\n",
        "net_d.to(device)\n",
        "criterion = nn.CrossEntropyLoss()\n",
        "optimizer = optim.SGD(net_d.parameters(), lr=0.001, momentum=0.9)"
      ],
      "execution_count": 8,
      "outputs": []
    },
    {
      "cell_type": "code",
      "metadata": {
        "colab": {
          "base_uri": "https://localhost:8080/"
        },
        "id": "H3aaqXfMrVHt",
        "outputId": "9b532bfe-e665-4522-fc40-eea4285c50bb"
      },
      "source": [
        "for epoch in range(5):  # loop over the dataset multiple times\n",
        "    running_loss = 0.0\n",
        "    for i, data in enumerate(trainloader, 0):\n",
        "        # get the inputs; data is a list of [inputs, labels]\n",
        "        inputs, labels = data[0].to(device), data[1].to(device)\n",
        "        # zero the parameter gradients\n",
        "        optimizer.zero_grad()\n",
        "        \n",
        "        # forward + backward + optimize\n",
        "        outputs = net_d(inputs)\n",
        "        loss = criterion(outputs, labels)\n",
        "        loss.backward()\n",
        "        optimizer.step()\n",
        "\n",
        "        # print statistics\n",
        "        running_loss += loss.item()\n",
        "\n",
        "        if i % 2000 == 1999:    # print every 2000 mini-batches\n",
        "            print('[%d, %5d] loss: %.3f' %\n",
        "                  (epoch + 1, i + 1, running_loss / 2000))\n",
        "            running_loss = 0.0\n",
        "\n",
        "print('Finished Training')\n",
        "correct = 0\n",
        "total = 0\n",
        "with torch.no_grad():\n",
        "    for data in testloader:\n",
        "        images, labels = data[0].to(device), data[1].to(device)\n",
        "        outputs = net_d(images)\n",
        "        _, predicted = torch.max(outputs.data, 1)\n",
        "        total += labels.size(0)\n",
        "        correct += (predicted == labels).sum().item()\n",
        "\n",
        "print('Accuracy of the network on the 10000 test images: %d %%' % (\n",
        "    100 * correct / total))"
      ],
      "execution_count": null,
      "outputs": [
        {
          "output_type": "stream",
          "text": [
            "[1,  2000] loss: 1.745\n",
            "[1,  4000] loss: 1.475\n",
            "[1,  6000] loss: 1.356\n",
            "[1,  8000] loss: 1.265\n",
            "[1, 10000] loss: 1.202\n",
            "[1, 12000] loss: 1.137\n",
            "[2,  2000] loss: 1.037\n",
            "[2,  4000] loss: 1.021\n",
            "[2,  6000] loss: 0.980\n",
            "[2,  8000] loss: 0.991\n",
            "[2, 10000] loss: 0.964\n",
            "[2, 12000] loss: 0.918\n",
            "[3,  2000] loss: 0.818\n",
            "[3,  4000] loss: 0.841\n",
            "[3,  6000] loss: 0.834\n",
            "[3,  8000] loss: 0.815\n",
            "[3, 10000] loss: 0.829\n",
            "[3, 12000] loss: 0.826\n",
            "[4,  2000] loss: 0.735\n",
            "[4,  4000] loss: 0.743\n",
            "[4,  6000] loss: 0.724\n",
            "[4,  8000] loss: 0.733\n",
            "[4, 10000] loss: 0.737\n",
            "[4, 12000] loss: 0.727\n",
            "[5,  2000] loss: 0.630\n",
            "[5,  4000] loss: 0.648\n",
            "[5,  6000] loss: 0.662\n",
            "[5,  8000] loss: 0.677\n",
            "[5, 10000] loss: 0.668\n",
            "[5, 12000] loss: 0.694\n",
            "Finished Training\n",
            "Accuracy of the network on the 10000 test images: 73 %\n"
          ],
          "name": "stdout"
        }
      ]
    },
    {
      "cell_type": "code",
      "metadata": {
        "id": "WPrzFx-JthmV"
      },
      "source": [
        "PATH = './model.pth'\n",
        "torch.save(net_d.state_dict(), PATH)\n",
        "\n"
      ],
      "execution_count": null,
      "outputs": []
    },
    {
      "cell_type": "code",
      "metadata": {
        "colab": {
          "base_uri": "https://localhost:8080/"
        },
        "id": "u0OgtJwMuQX-",
        "outputId": "a9c72dcf-f8d4-4a04-ee57-3cec6e1b1419"
      },
      "source": [
        "!pip install torchsummary\n",
        "from torchsummary import summary\n",
        "summary(net_d, input_size=(3, 32, 32))"
      ],
      "execution_count": null,
      "outputs": [
        {
          "output_type": "stream",
          "text": [
            "Requirement already satisfied: torchsummary in /usr/local/lib/python3.7/dist-packages (1.5.1)\n",
            "----------------------------------------------------------------\n",
            "        Layer (type)               Output Shape         Param #\n",
            "================================================================\n",
            "         ZeroPad2d-1            [-1, 3, 36, 36]               0\n",
            "            Conv2d-2           [-1, 16, 32, 32]           1,216\n",
            "       BatchNorm2d-3           [-1, 16, 32, 32]              32\n",
            "         MaxPool2d-4           [-1, 16, 16, 16]               0\n",
            "         ZeroPad2d-5           [-1, 16, 20, 20]               0\n",
            "            Conv2d-6           [-1, 32, 16, 16]          12,832\n",
            "       BatchNorm2d-7           [-1, 32, 16, 16]              64\n",
            "         MaxPool2d-8             [-1, 32, 8, 8]               0\n",
            "         ZeroPad2d-9           [-1, 32, 12, 12]               0\n",
            "           Conv2d-10             [-1, 64, 8, 8]          51,264\n",
            "      BatchNorm2d-11             [-1, 64, 8, 8]             128\n",
            "        MaxPool2d-12             [-1, 64, 4, 4]               0\n",
            "           Linear-13                   [-1, 64]          65,600\n",
            "           Linear-14                   [-1, 10]             650\n",
            "================================================================\n",
            "Total params: 131,786\n",
            "Trainable params: 131,786\n",
            "Non-trainable params: 0\n",
            "----------------------------------------------------------------\n",
            "Input size (MB): 0.01\n",
            "Forward/backward pass size (MB): 0.61\n",
            "Params size (MB): 0.50\n",
            "Estimated Total Size (MB): 1.12\n",
            "----------------------------------------------------------------\n"
          ],
          "name": "stdout"
        }
      ]
    },
    {
      "cell_type": "code",
      "metadata": {
        "id": "pPqQSn7TvrCM"
      },
      "source": [
        "accuracy=[]\n",
        "criterion = nn.CrossEntropyLoss()\n",
        "net_d= Net_d()\n",
        "net_d.to(device)\n",
        "criterion = nn.CrossEntropyLoss()\n",
        "optimizer = optim.SGD(net_d.parameters(), lr=0.001, momentum=0.9)\n",
        "for epoch in range(5):  # loop over the dataset multiple times\n",
        "    correct = 0.0\n",
        "    total = 0\n",
        "    for i, data in enumerate(trainloader, 0):\n",
        "        inputs, labels = data[0].to(device), data[1].to(device)\n",
        "        # zero the parameter gradients\n",
        "        optimizer.zero_grad()\n",
        "        outputs = net_d(inputs)\n",
        "        loss = criterion(outputs, labels)\n",
        "        loss.backward()\n",
        "        optimizer.step()\n",
        "    for data in testloader:\n",
        "        images_test, labels_test = data[0].to(device), data[1].to(device)\n",
        "        outputs_test = net_d(images_test)\n",
        "        _, predicted = torch.max(outputs_test.data, 1)\n",
        "        total += labels_test.size(0)\n",
        "        correct += (predicted == labels_test).sum().item()\n",
        "    accuracy.append(100 * correct / total)\n",
        "\n",
        "      \n",
        "    "
      ],
      "execution_count": 13,
      "outputs": []
    },
    {
      "cell_type": "code",
      "metadata": {
        "colab": {
          "base_uri": "https://localhost:8080/",
          "height": 295
        },
        "id": "cRocbEdGw-SJ",
        "outputId": "7a5a2f3d-0785-490e-e321-3c33c2c6b078"
      },
      "source": [
        "import matplotlib.pyplot as plt\n",
        "epochs=[1,2,3,4,5]\n",
        "plt.plot(epochs,accuracy)\n",
        "plt.title('title name')\n",
        "plt.xlabel('epochs')\n",
        "plt.ylabel('test-accuracy')\n",
        "plt.show()"
      ],
      "execution_count": 14,
      "outputs": [
        {
          "output_type": "display_data",
          "data": {
            "image/png": "[encoded data removed]",
            "text/plain": [
              "<Figure size 432x288 with 1 Axes>"
            ]
          },
          "metadata": {
            "tags": [],
            "needs_background": "light"
          }
        }
      ]
    }
  ]
}