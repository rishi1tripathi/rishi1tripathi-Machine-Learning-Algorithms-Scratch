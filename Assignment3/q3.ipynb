{
  "nbformat": 4,
  "nbformat_minor": 0,
  "metadata": {
    "colab": {
      "name": "Untitled2.ipynb",
      "provenance": []
    },
    "kernelspec": {
      "name": "python3",
      "display_name": "Python 3"
    },
    "language_info": {
      "name": "python"
    },
    "accelerator": "GPU"
  },
  "cells": [
    {
      "cell_type": "code",
      "metadata": {
        "id": "brRYOQurZF2c"
      },
      "source": [
        "import numpy as np\n",
        "import torch\n",
        "import torchvision\n",
        "import matplotlib.pyplot as plt\n",
        "from time import time\n",
        "from torchvision import datasets, transforms\n",
        "from torch import nn, optim"
      ],
      "execution_count": null,
      "outputs": []
    },
    {
      "cell_type": "code",
      "metadata": {
        "id": "JuSm0eEdZN0X"
      },
      "source": [
        "transform = transforms.Compose([transforms.ToTensor()\n",
        "                              ])\n",
        "trainset = datasets.MNIST('PATH_TO_STORE_TRAINSET', download=True, train=True, transform=transform)\n",
        "testset = datasets.MNIST('PATH_TO_STORE_TESTSET', download=True, train=False, transform=transform)\n",
        "trainloader = torch.utils.data.DataLoader(trainset, batch_size=64, shuffle=True)\n",
        "testloader = torch.utils.data.DataLoader(testset, batch_size=64, shuffle=True)"
      ],
      "execution_count": null,
      "outputs": []
    },
    {
      "cell_type": "code",
      "metadata": {
        "id": "er9q8tmWZaTr"
      },
      "source": [
        "import torch.nn.functional as F\n",
        "device = torch.device(\"cuda:0\" if torch.cuda.is_available() else \"cpu\")\n",
        "class Mlpmodel(nn.Module):\n",
        "    def initialize_weights(self,type):\n",
        "       if type=='uniform':\n",
        "          torch.nn.init.uniform_(self.fc1.weight)\n",
        "          torch.nn.init.uniform_(self.fc2.weight)\n",
        "          torch.nn.init.uniform_(self.fc3.weight)\n",
        "       elif type=='normal':\n",
        "          torch.nn.init.normal_(self.fc1.weight)\n",
        "          torch.nn.init.normal_(self.fc2.weight)\n",
        "          torch.nn.init.normal_(self.fc3.weight) \n",
        "       elif type=='xavier':\n",
        "          torch.nn.init.xavier_uniform_(self.fc1.weight)\n",
        "          torch.nn.init.xavier_uniform_(self.fc2.weight)\n",
        "          torch.nn.init.xavier_uniform_(self.fc3.weight) \n",
        "    def __init__(self,ip_f,type='normal'):\n",
        "        super(Mlpmodel,self).__init__()\n",
        "        self.fc1 = nn.Linear(ip_f, 128)\n",
        "        self.fc2 = nn.Linear(128,64)\n",
        "        self.fc3 = nn.Linear(64,10)\n",
        "        self.initialize_weights(type)\n",
        "        \n",
        "    def forward(self,x):\n",
        "        x = F.relu(self.fc1(x))\n",
        "        x = F.relu(self.fc2(x))\n",
        "        x = self.fc3(x)\n",
        "        x=nn.LogSoftmax(dim=1)(x)\n",
        "        return x"
      ],
      "execution_count": null,
      "outputs": []
    },
    {
      "cell_type": "code",
      "metadata": {
        "id": "vZVONlRIZfNZ"
      },
      "source": [
        "import matplotlib.pyplot as plt\n",
        "def train(model,epoch,optimizer,scheduler):\n",
        "    loss_list=[]\n",
        "    epochs_list=np.arange(1,epoch+1)\n",
        "    for i in range(1,epoch+1):\n",
        "        running_loss=0.0\n",
        "        for j, data in enumerate(trainloader, 0):\n",
        "            inputs, labels = data[0].to(device), data[1].to(device)\n",
        "            inputs = inputs.view(inputs.size(0), -1)\n",
        "            optimizer.zero_grad()\n",
        "            outputs = model(inputs)\n",
        "            loss = criterion(outputs, labels)\n",
        "            loss.backward()\n",
        "            optimizer.step()\n",
        "            running_loss += loss.item()\n",
        "        loss_list.append(running_loss/len(trainloader))\n",
        "     \n",
        "        scheduler.step()\n",
        "    plt.plot(epochs_list,loss_list)\n",
        "    plt.title('Loss vs epoch')\n",
        "    plt.xlabel('epoch')\n",
        "    plt.ylabel('Loss')\n",
        "    plt.show()"
      ],
      "execution_count": null,
      "outputs": []
    },
    {
      "cell_type": "code",
      "metadata": {
        "id": "d8Rwlj5IcJ78"
      },
      "source": [
        "def test(model):\n",
        "    total = 0\n",
        "    correct = 0\n",
        "    with torch.no_grad():\n",
        "        running_loss = 0.0\n",
        "        for data in testloader:\n",
        "            images, labels = data[0].to(device), data[1].to(device)\n",
        "            images = images.view(images.size(0), -1)\n",
        "            outputs = model(images)\n",
        "            total += labels.size(0)\n",
        "            _, predicted = torch.max(outputs.data, 1)\n",
        "            correct += (predicted == labels).sum().item()\n",
        "\n",
        "    print('Accuracy of the network on the 10000 test images: %d %%' % (\n",
        "    100 * correct / total))"
      ],
      "execution_count": null,
      "outputs": []
    },
    {
      "cell_type": "code",
      "metadata": {
        "colab": {
          "base_uri": "https://localhost:8080/",
          "height": 313
        },
        "id": "4rhHD3kfcNRe",
        "outputId": "8ab827a1-ce6f-47e3-86aa-635304a354d4"
      },
      "source": [
        "# adam \n",
        "mlp= Mlpmodel(28*28)\n",
        "mlp.to(device)\n",
        "criterion = nn.CrossEntropyLoss()\n",
        "optimizer = torch.optim.Adam(mlp.parameters(),  lr=0.001)\n",
        "train(mlp,10,optimizer,None)\n",
        "test(mlp)"
      ],
      "execution_count": null,
      "outputs": [
        {
          "output_type": "display_data",
          "data": {
            "image/png": "[encoded data removed]",
            "text/plain": [
              "<Figure size 432x288 with 1 Axes>"
            ]
          },
          "metadata": {
            "tags": [],
            "needs_background": "light"
          }
        },
        {
          "output_type": "stream",
          "text": [
            "Accuracy of the network on the 10000 test images: 91 %\n"
          ],
          "name": "stdout"
        }
      ]
    },
    {
      "cell_type": "code",
      "metadata": {
        "colab": {
          "base_uri": "https://localhost:8080/",
          "height": 313
        },
        "id": "WEbzEBfnd9B4",
        "outputId": "ec4657b5-bb0f-4845-ac2b-3586895bf438"
      },
      "source": [
        "# RMSprop \n",
        "mlp= Mlpmodel(28*28)\n",
        "mlp.to(device)\n",
        "criterion = nn.CrossEntropyLoss()\n",
        "optimizer = torch.optim.RMSprop(mlp.parameters())\n",
        "train(mlp,10,optimizer,None)\n",
        "test(mlp)"
      ],
      "execution_count": null,
      "outputs": [
        {
          "output_type": "display_data",
          "data": {
            "image/png": "[encoded data removed]",
            "text/plain": [
              "<Figure size 432x288 with 1 Axes>"
            ]
          },
          "metadata": {
            "tags": [],
            "needs_background": "light"
          }
        },
        {
          "output_type": "stream",
          "text": [
            "Accuracy of the network on the 10000 test images: 96 %\n"
          ],
          "name": "stdout"
        }
      ]
    },
    {
      "cell_type": "code",
      "metadata": {
        "colab": {
          "base_uri": "https://localhost:8080/",
          "height": 313
        },
        "id": "PtRggFR3evAT",
        "outputId": "6643c3b2-8ba2-4701-f8f8-5c71715ea140"
      },
      "source": [
        "# SGD \n",
        "mlp= Mlpmodel(28*28)\n",
        "mlp.to(device)\n",
        "criterion = nn.NLLLoss()\n",
        "optimizer = torch.optim.SGD(mlp.parameters(),lr=0.001)\n",
        "train(mlp,5,optimizer,None)\n",
        "test(mlp)"
      ],
      "execution_count": null,
      "outputs": [
        {
          "output_type": "display_data",
          "data": {
            "image/png": "[encoded data removed]",
            "text/plain": [
              "<Figure size 432x288 with 1 Axes>"
            ]
          },
          "metadata": {
            "tags": [],
            "needs_background": "light"
          }
        },
        {
          "output_type": "stream",
          "text": [
            "Accuracy of the network on the 10000 test images: 81 %\n"
          ],
          "name": "stdout"
        }
      ]
    },
    {
      "cell_type": "code",
      "metadata": {
        "colab": {
          "base_uri": "https://localhost:8080/",
          "height": 313
        },
        "id": "7RZNgxYhflIm",
        "outputId": "700c1a28-3cba-48b6-e2d0-e38be803a64f"
      },
      "source": [
        "# SGD with momentum\n",
        "mlp= Mlpmodel()\n",
        "mlp.to(device)\n",
        "criterion = nn.NLLLoss()\n",
        "optimizer = torch.optim.SGD(mlp.parameters(),momentum=0.9,lr=0.001)\n",
        "train(mlp,10,optimizer,None)\n",
        "test(mlp)"
      ],
      "execution_count": null,
      "outputs": [
        {
          "output_type": "display_data",
          "data": {
            "image/png": "[encoded data removed]",
            "text/plain": [
              "<Figure size 432x288 with 1 Axes>"
            ]
          },
          "metadata": {
            "tags": [],
            "needs_background": "light"
          }
        },
        {
          "output_type": "stream",
          "text": [
            "Accuracy of the network on the 10000 test images: 94 %\n"
          ],
          "name": "stdout"
        }
      ]
    },
    {
      "cell_type": "code",
      "metadata": {
        "colab": {
          "base_uri": "https://localhost:8080/",
          "height": 313
        },
        "id": "TGbwBrPmF2W-",
        "outputId": "9b123551-ad36-418b-dd09-7f95ec2234d1"
      },
      "source": [
        "#  normal weight initilization\n",
        "mlp= Mlpmodel(28*28,'normal')\n",
        "mlp.to(device)\n",
        "criterion = nn.CrossEntropyLoss()\n",
        "optimizer = torch.optim.RMSprop(mlp.parameters())\n",
        "train(mlp,10,optimizer,None)\n",
        "test(mlp)"
      ],
      "execution_count": null,
      "outputs": [
        {
          "output_type": "display_data",
          "data": {
            "image/png": "[encoded data removed]",
            "text/plain": [
              "<Figure size 432x288 with 1 Axes>"
            ]
          },
          "metadata": {
            "tags": [],
            "needs_background": "light"
          }
        },
        {
          "output_type": "stream",
          "text": [
            "Accuracy of the network on the 10000 test images: 95 %\n"
          ],
          "name": "stdout"
        }
      ]
    },
    {
      "cell_type": "code",
      "metadata": {
        "colab": {
          "base_uri": "https://localhost:8080/",
          "height": 313
        },
        "id": "K1OGPnTMJ1Gt",
        "outputId": "b2cacb16-5a23-4ec3-fb81-aadf10108f5b"
      },
      "source": [
        "#  uniform weight initilization\n",
        "mlp= Mlpmodel(28*28,'uniform')\n",
        "mlp.to(device)\n",
        "criterion = nn.CrossEntropyLoss()\n",
        "optimizer = torch.optim.RMSprop(mlp.parameters())\n",
        "train(mlp,10,optimizer,None)\n",
        "test(mlp)"
      ],
      "execution_count": null,
      "outputs": [
        {
          "output_type": "display_data",
          "data": {
            "image/png": "[encoded data removed]",
            "text/plain": [
              "<Figure size 432x288 with 1 Axes>"
            ]
          },
          "metadata": {
            "tags": [],
            "needs_background": "light"
          }
        },
        {
          "output_type": "stream",
          "text": [
            "Accuracy of the network on the 10000 test images: 96 %\n"
          ],
          "name": "stdout"
        }
      ]
    },
    {
      "cell_type": "code",
      "metadata": {
        "colab": {
          "base_uri": "https://localhost:8080/",
          "height": 313
        },
        "id": "9bNeP6QZJ3eG",
        "outputId": "3aadba14-e809-4f9b-eb87-0da526b26c32"
      },
      "source": [
        "#  xavier weight initilization\n",
        "mlp= Mlpmodel(28*28,'xavier')\n",
        "mlp.to(device)\n",
        "criterion = nn.CrossEntropyLoss()\n",
        "optimizer = torch.optim.RMSprop(mlp.parameters())\n",
        "train(mlp,10,optimizer,None)\n",
        "test(mlp)"
      ],
      "execution_count": null,
      "outputs": [
        {
          "output_type": "display_data",
          "data": {
            "image/png": "[encoded data removed]",
            "text/plain": [
              "<Figure size 432x288 with 1 Axes>"
            ]
          },
          "metadata": {
            "tags": [],
            "needs_background": "light"
          }
        },
        {
          "output_type": "stream",
          "text": [
            "Accuracy of the network on the 10000 test images: 95 %\n"
          ],
          "name": "stdout"
        }
      ]
    },
    {
      "cell_type": "code",
      "metadata": {
        "colab": {
          "base_uri": "https://localhost:8080/",
          "height": 1000
        },
        "id": "U_XbiL4XLS5a",
        "outputId": "8c99d51e-0643-4627-f920-f3602aec1cbd"
      },
      "source": [
        "#  varying learning rate\n",
        "lr = [0.1,0.01,0.001,0.0001]\n",
        "for i in lr:\n",
        "    mlp= Mlpmodel(28*28,'normal')\n",
        "    mlp.to(device)\n",
        "    criterion = nn.CrossEntropyLoss()\n",
        "    optimizer = torch.optim.RMSprop(mlp.parameters(),lr=i)\n",
        "    train(mlp,10,optimizer,None)\n",
        "    print('For learning rate i=' ,i)\n",
        "    test(mlp)\n",
        "    '----------------'"
      ],
      "execution_count": null,
      "outputs": [
        {
          "output_type": "display_data",
          "data": {
            "image/png": "[encoded data removed]",
            "text/plain": [
              "<Figure size 432x288 with 1 Axes>"
            ]
          },
          "metadata": {
            "tags": [],
            "needs_background": "light"
          }
        },
        {
          "output_type": "stream",
          "text": [
            "For learning rate i= 0.1\n",
            "Accuracy of the network on the 10000 test images: 11 %\n"
          ],
          "name": "stdout"
        },
        {
          "output_type": "display_data",
          "data": {
            "image/png": "[encoded data removed]",
            "text/plain": [
              "<Figure size 432x288 with 1 Axes>"
            ]
          },
          "metadata": {
            "tags": [],
            "needs_background": "light"
          }
        },
        {
          "output_type": "stream",
          "text": [
            "For learning rate i= 0.01\n",
            "Accuracy of the network on the 10000 test images: 94 %\n"
          ],
          "name": "stdout"
        },
        {
          "output_type": "display_data",
          "data": {
            "image/png": "[encoded data removed]",
            "text/plain": [
              "<Figure size 432x288 with 1 Axes>"
            ]
          },
          "metadata": {
            "tags": [],
            "needs_background": "light"
          }
        },
        {
          "output_type": "stream",
          "text": [
            "For learning rate i= 0.001\n",
            "Accuracy of the network on the 10000 test images: 92 %\n"
          ],
          "name": "stdout"
        },
        {
          "output_type": "display_data",
          "data": {
            "image/png": "[encoded data removed]",
            "text/plain": [
              "<Figure size 432x288 with 1 Axes>"
            ]
          },
          "metadata": {
            "tags": [],
            "needs_background": "light"
          }
        },
        {
          "output_type": "stream",
          "text": [
            "For learning rate i= 0.0001\n",
            "Accuracy of the network on the 10000 test images: 85 %\n"
          ],
          "name": "stdout"
        }
      ]
    },
    {
      "cell_type": "code",
      "metadata": {
        "colab": {
          "base_uri": "https://localhost:8080/",
          "height": 515
        },
        "id": "5kGQACfSM6PN",
        "outputId": "b6e7b14e-ad30-411c-c42d-cd7dbb31ff35"
      },
      "source": [
        "#  Exponential annealing\n",
        "mlp= Mlpmodel(28*28,'uniform')\n",
        "mlp.to(device)\n",
        "criterion = nn.CrossEntropyLoss()\n",
        "optimizer = torch.optim.RMSprop(mlp.parameters())\n",
        "scheduler=torch.optim.lr_scheduler.ExponentialLR(optimizer,  0.999, last_epoch=-1, verbose=True)\n",
        "train(mlp,10,optimizer,scheduler)\n",
        "test(mlp)"
      ],
      "execution_count": null,
      "outputs": [
        {
          "output_type": "stream",
          "text": [
            "Adjusting learning rate of group 0 to 1.0000e-02.\n",
            "Adjusting learning rate of group 0 to 9.9900e-03.\n",
            "Adjusting learning rate of group 0 to 9.9800e-03.\n",
            "Adjusting learning rate of group 0 to 9.9700e-03.\n",
            "Adjusting learning rate of group 0 to 9.9601e-03.\n",
            "Adjusting learning rate of group 0 to 9.9501e-03.\n",
            "Adjusting learning rate of group 0 to 9.9401e-03.\n",
            "Adjusting learning rate of group 0 to 9.9302e-03.\n",
            "Adjusting learning rate of group 0 to 9.9203e-03.\n",
            "Adjusting learning rate of group 0 to 9.9104e-03.\n",
            "Adjusting learning rate of group 0 to 9.9004e-03.\n"
          ],
          "name": "stdout"
        },
        {
          "output_type": "display_data",
          "data": {
            "image/png": "[encoded data removed]",
            "text/plain": [
              "<Figure size 432x288 with 1 Axes>"
            ]
          },
          "metadata": {
            "tags": [],
            "needs_background": "light"
          }
        },
        {
          "output_type": "stream",
          "text": [
            "Accuracy of the network on the 10000 test images: 95 %\n"
          ],
          "name": "stdout"
        }
      ]
    },
    {
      "cell_type": "markdown",
      "metadata": {
        "id": "s4YR82erjlD8"
      },
      "source": [
        "**Part2**"
      ]
    },
    {
      "cell_type": "code",
      "metadata": {
        "colab": {
          "base_uri": "https://localhost:8080/"
        },
        "id": "5g-3lRapfpt6",
        "outputId": "726a2a92-8acb-43e9-9ce0-632c5263bded"
      },
      "source": [
        "import torch.nn as nn\n",
        "import torch.nn.functional as F\n",
        "device = torch.device(\"cuda:0\" if torch.cuda.is_available() else \"cpu\")\n",
        "print(device)\n",
        "\n",
        "class AE(nn.Module):\n",
        "    def __init__(self,bootleneck_params):\n",
        "        super(AE, self).__init__()\n",
        "        self.bootleneck_params=  bootleneck_params\n",
        "        #Encoder\n",
        "        self.enc1 = nn.Linear(in_features=784, out_features=300)\n",
        "         # Input image (28*28 = 784)\n",
        "        self.enc2 = nn.Linear(in_features=300, out_features=100)\n",
        "        self.enc3 = nn.Linear(in_features=100, out_features=32)\n",
        "        self.enc4 = nn.Linear(in_features=32, out_features= self.bootleneck_params)\n",
        "\n",
        "        #Decoder \n",
        "        self.dec1 = nn.Linear(in_features =self.bootleneck_params, out_features=32)\n",
        "        self.dec2 = nn.Linear(in_features=32, out_features=100)\n",
        "        self.dec3 = nn.Linear(in_features=100, out_features=300)\n",
        "        self.dec4 = nn.Linear(in_features=300, out_features=784)\n",
        "\n",
        "    def forward(self, x):\n",
        "        x = F.relu(self.enc1(x))\n",
        "        x = F.relu(self.enc2(x))\n",
        "        x = F.relu(self.enc3(x))\n",
        "        x = F.relu(self.enc4(x))\n",
        "\n",
        "        y = F.relu(self.dec1(x))\n",
        "        y = F.relu(self.dec2(y))\n",
        "        y = F.relu(self.dec3(y))\n",
        "        y = self.dec4(y)\n",
        "\n",
        "        return x,y"
      ],
      "execution_count": null,
      "outputs": [
        {
          "output_type": "stream",
          "text": [
            "cuda:0\n"
          ],
          "name": "stdout"
        }
      ]
    },
    {
      "cell_type": "code",
      "metadata": {
        "id": "0Ogr-X3ImFKW"
      },
      "source": [
        "ae=AE(16)\n",
        "ae.to(device)\n",
        "criterion=nn.MSELoss()\n",
        "optimizer = torch.optim.RMSprop(mlp.parameters())\n",
        "for i in range(1,11):\n",
        "        running_loss=0.0\n",
        "        for i, data in enumerate(trainloader, 0):\n",
        "            inputs, labels = data[0].to(device), data[1].to(device)\n",
        "            inputs = inputs.view(inputs.size(0), -1)\n",
        "            optimizer.zero_grad()\n",
        "            x,y = ae(inputs)\n",
        "            loss = criterion(y, inputs)\n",
        "            loss.backward()\n",
        "            optimizer.step()"
      ],
      "execution_count": null,
      "outputs": []
    },
    {
      "cell_type": "code",
      "metadata": {
        "colab": {
          "base_uri": "https://localhost:8080/"
        },
        "id": "V901EGvgR5CU",
        "outputId": "e96a0bf5-9cc0-4f1d-e52f-0ba3beb5fb9a"
      },
      "source": [
        "mlp=Mlpmodel(16)\n",
        "mlp.to(device)\n",
        "criterion = nn.CrossEntropyLoss()\n",
        "optimizer = torch.optim.RMSprop(mlp.parameters())\n",
        "for epoch in range(1,11):\n",
        "        running_loss=0.0\n",
        "        for i, data in enumerate(trainloader, 0):\n",
        "            inputs, labels = data[0].to(device), data[1].to(device)\n",
        "            inputs = inputs.view(inputs.size(0), -1)\n",
        "            optimizer.zero_grad()\n",
        "            x,y = ae(inputs)\n",
        "            outputs = mlp(x)\n",
        "            loss = criterion(outputs, labels)\n",
        "            loss.backward()\n",
        "            optimizer.step()\n",
        "            running_loss=loss.item()\n",
        "        print('Epoch {} of {}, Train Loss: {:.3f}'.format(epoch, 10, running_loss/len(trainloader)))"
      ],
      "execution_count": null,
      "outputs": [
        {
          "output_type": "stream",
          "text": [
            "Epoch 1 of 10, Train Loss: 0.002\n",
            "Epoch 2 of 10, Train Loss: 0.002\n",
            "Epoch 3 of 10, Train Loss: 0.002\n",
            "Epoch 4 of 10, Train Loss: 0.002\n",
            "Epoch 5 of 10, Train Loss: 0.002\n",
            "Epoch 6 of 10, Train Loss: 0.001\n",
            "Epoch 7 of 10, Train Loss: 0.002\n",
            "Epoch 8 of 10, Train Loss: 0.002\n",
            "Epoch 9 of 10, Train Loss: 0.002\n",
            "Epoch 10 of 10, Train Loss: 0.001\n"
          ],
          "name": "stdout"
        }
      ]
    },
    {
      "cell_type": "code",
      "metadata": {
        "colab": {
          "base_uri": "https://localhost:8080/"
        },
        "id": "3R9blOFDTBUV",
        "outputId": "c0d0863c-0f82-4f53-d588-13b41fb8c5b1"
      },
      "source": [
        "correct=0.0\n",
        "total=0.0\n",
        "for data in testloader:\n",
        "    images, labels = data[0].to(device), data[1].to(device)\n",
        "    images = images.view(images.size(0), -1)\n",
        "    x,y=ae(images)\n",
        "    outputs = mlp(x)\n",
        "    total += labels.size(0)\n",
        "    _, predicted = torch.max(outputs.data, 1)\n",
        "    correct += (predicted == labels).sum().item()\n",
        "print('Accuracy of the network on the 10000 test images: %d %%' % (\n",
        "    100 * correct / total))"
      ],
      "execution_count": null,
      "outputs": [
        {
          "output_type": "stream",
          "text": [
            "Accuracy of the network on the 10000 test images: 93 %\n"
          ],
          "name": "stdout"
        }
      ]
    },
    {
      "cell_type": "code",
      "metadata": {
        "id": "RHDlU-pA4sNV"
      },
      "source": [
        "print('Accuracy of mlp using rms prop  is 97%')\n",
        "print('Accuracy of mlp using auto encoder featurs  is 93%')"
      ],
      "execution_count": null,
      "outputs": []
    }
  ]
}